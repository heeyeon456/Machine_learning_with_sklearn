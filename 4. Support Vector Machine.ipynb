{
 "cells": [
  {
   "cell_type": "markdown",
   "metadata": {},
   "source": [
    "# 4. Support Vector Machine"
   ]
  },
  {
   "cell_type": "markdown",
   "metadata": {
    "collapsed": true
   },
   "source": [
    "## large margin classification\n",
    "- logistic regression vs. support vector machine<br/>\n",
    "<img src=\"picture/svm1.png\">\n",
    "cost1함수(hyplerplane함수값) 값이 1보다 작으면 1로 분류되고, -1보다 작으면 0으로 분류된다.<br/><br/>\n",
    "y(i)=1 -> cost1(z) >= 1    \n",
    "y(i)=0 -> cost0(z) <= -1\n",
    "<img src=\"picture/svm2.png\">\n",
    "- large margin classification\n",
    "classification problem에서 svm은 class간의 가장 margin이 큰 hyperplane을 찾고자 한다.<br/>\n",
    "여기서 **margin**은 hyperplane과 각 class의 hyperplane과 가장 가까운 element와의 거리를 의미한다.<br/><br/>\n",
    "<img src =\"picture/svm3.png\"><br/>\n",
    "C가 크면 regularization이 적고, 모든 데이터와 outlier까지 모두 고려해서 가장 적합한 hyperplane을 찾고자 한다.<br/>\n",
    "C가 작으면 outlier는 penalize시킬려는 경향이 강하고, regularization이 많이 된다. <br/>\n",
    "margin을 최대화하는 지점을 찾기 위해서는 w 값을 minimize시켜야 한다!\n",
    "<br/><br/>\n",
    "---\n",
    "## Decision boundary\n",
    "* 참고\n",
    "<img src = \"picture/inner_project.png\">\n",
    "<br/><br/>\n",
    "왜 w(parameter vector)를 minimizing시키는 지점이 margin이 최대화하는 hyperplane인가<br/><br/>\n",
    "결국 svm에서는 데이터 사이의 margin을 최대화시키면서도 general한 hyperplane을 찾고자 한다. <br/><br/>\n",
    "일단 C(regularizing factor)는 고려하지 않고, 데이터만을 고려했을 때 hyperplane에 해당하는 vector를 $g$라고 하자<br/>\n",
    "$ \\vec{g} = \\sum_i^k\\theta_ix_i+\\theta_0 $ 이 경우 단순하게 생각하기 위해 $ \\theta_0 = 0, k(feature\\,number) = 0 $이라 하자<br/><br/>\n",
    "그렇다면 이 경우에서는 아래와 같은 optimization problem을 해결하고자 한다.<br/><br/>\n",
    "$$ min_{\\theta}\\,\\frac{1}{2}\\sum_{j=1}^n\\theta_j^2 = \\frac{1}{2}(\\theta_1^2+\\theta_2^2) = \\frac{1}{2}(\\sqrt{\\theta_1^2+\\theta_2^2})^2 =  \\frac{1}{2}\\left \\| \\theta \\right \\|^2 $$ <br/>\n",
    "<img src=\"picture/svm4.png\" align = \"right\">\n",
    "$ s.t.$ <br/>\n",
    "$ \\theta^Tx(i)\\geq 1\\,,\\,if\\, y^{(i)}=1, $ <br/><br/>\n",
    "$ \\theta^Tx(i)\\leq -1\\,,\\,if\\, y^{(i)}=0 $ <br/><br/><br/>\n",
    "여기서 $\\theta^Tx(i) $는 무엇을 의미할까.<br/><br/>\n",
    "$= p^{(i)} \\cdot \\left \\| \\theta \\right \\| $ <br/><br/>\n",
    "$= \\theta_1x_1^{(i)}+\\theta_2x_2^{(i)} $\n",
    "<img src=\"picture/svm5.png\"><br/>\n",
    "초록색을 support vector(hyperplane)이라고 가정하면, <br/>hyperplane vector g의 orthogonal vector $\\theta$인($\\theta_0$가 0이므로 g의 projection vector는 $\\theta$이다.) <br/> 각 class에서 가장 가까운 element를 projection했을 때의 길이를 $p^{(i)}$라 했을 때, 왼쪽 그래프의 경우 hyperplane이 두 class를 적절하게 분리하지 못하고 있기 때문에, $p(i)$가 작은 값이고, 두 class를 분리하기 위해서는 $\\left \\| \\theta \\right \\| $ 가 큰 값이 되게 된다. <br/>하지만 오른쪽 그래프의 경우 $p(i)$가 큰 값이고, $\\left \\| \\theta \\right \\| $ 가 작은 값이 된다. 오른쪽 그래프가 더욱더 큰 margin을 가지고 classify 하는 hyperplane이라고 할 수 있다.<br/><br/>\n",
    "따라서 최소의 parameter vector값을 구하면 margin을 최대화하는 supprot vector를 구할 수 있다.\n"
   ]
  },
  {
   "cell_type": "markdown",
   "metadata": {},
   "source": [
    "---\n",
    "## Soft margin\n",
    "위의 SVM방식은 **Hard margin**방법이라고 한다.<br/> Hard margin방법은 매우 엄격하게 두 개의 class를 분리하는 hyperplane을 구하는 방법이다. 하지만 이러한 방법은 outlier나 noise로 인해 hyperplane을 잘 구하지 못하는 경우가 발생할 수 있다.<br/><br/>\n",
    "이러한 문제점을 해결하기 위해서 **soft margin**방법이 개발되었다.<br/>\n",
    "이 방법은 support vector가 위치한 경계선에 약간의 여유값을 두는 것이다.<br/><br/>\n",
    "$$ y_i(w_0+w_1x_1+w_2x_2) \\geq 1-\\xi_i\\,, \\,\\xi_i \\geq 0 \\,\\,\\,for\\,\\,\\forall i $$<br/>\n",
    "이식은 support vector의 경계선에서 $\\xi$만큼의 error를 인정한다는 의미이다.<br/>\n",
    "이에 따라서 margin을 최대화하는 objective function은<br/>\n",
    "$$ min\\frac{1}{2}\\left \\| w \\right \\|^w + C\\sum\\xi_i $$\n",
    "$$ s.t.\\,\\,\\, y_i(w_0+w_1x_1+w_2x_2) \\geq 1-\\xi_i\\,, \\,\\xi_i \\geq 0 \\,\\,\\,for\\,\\,\\forall i $$<br/>\n",
    "이와 같다.\n",
    "<br/>\n",
    "---\n",
    "## Kernel\n",
    "- 만약 class가 linear하게 구분되는 형태가 아닌 non-linear하게 구분되는 경우 다양한 커널함수를 사용할 수 있다.<br/><br/>\n",
    "<img src=\"picture/svm-kernel2.png\" align=\"right\">\n",
    "- **kernel** 이란 일종의 similarity function이다. kernel은 두개의 input을 받아서 둘이 얼마나 비슷한지 반환하는 머신러닝 알고리즘이다.<br/><br/>\n",
    "예를들어, 어떠한 input x가 주어졌을 때, landmark $l^{(1)},l^{(2)},l^{(3)}$에 얼마나 가까운지에 따라서 새로운 feature를 정의할 수 있다.<br/><br/>\n",
    "$$f_i = similarity(x,l^{(i)})=exp(-\\frac{\\left \\| x-l^{(i)} \\right \\|^2}{2\\sigma^2}) $$ \n",
    "<br/>\n",
    "$ if x \\approx l^{(1)}  : $\n",
    "= x is close to l1<br/>\n",
    "$$ f_1 \\approx exp(-\\frac{0^2}{2\\sigma^2})\\,\\approx\\,1$$<br/><br/>\n",
    "if x is far from l1 <br/>\n",
    "$$ f_1 \\approx exp(-\\frac{(large\\,number)^2}{2\\sigma^2})\\,\\approx\\,0$$\n",
    "<br/><br/>\n",
    "- Examples<br/>\n",
    "<img src=\"picture/kernel_ex1.png\" align=\"left\">\n",
    "Predict y = 1, $$ if\\,\\,\\theta_0+\\theta_1 f_1+\\theta_2 f_2+\\theta_3 f_3\\geq0 $$<br/>\n",
    "$$ \\theta_0=-0.5,\\,\\theta_1=1,\\,\\theta_2=0,\\,\\theta_3=0$$<br/>\n",
    "$$f_1\\approx1,f_2\\approx0,f_e\\approx0$$<br/>\n",
    "$$\\theta_0+\\theta_1*1+\\theta_2*1+\\theta_3*0$$$$=-0.5+1=0.5\\geq0$$<br/>\n",
    "therefore this point predicted as **y = 1**\n",
    "<br/><br/><br/>\n",
    "<img src=\"picture/kernel_ex2.png\" align=\"left\">\n",
    "<br/>\n",
    "Predict y = 1, $$ if\\,\\,\\theta_0+\\theta_1 f_1+\\theta_2 f_2+\\theta_3 f_3\\geq0 $$<br/>\n",
    "$$ \\theta_0=-0.5,\\,\\theta_1=1,\\,\\theta_2=0,\\,\\theta_3=0$$<br/>\n",
    "$$f_1\\approx0,f_2\\approx0,f_e\\approx0$$<br/>\n",
    "$$\\theta_0+\\theta_1*0+\\theta_2*1+\\theta_3*=-0.5\\leq0$$<br/>\n",
    "therefore this point predicted as **y = 0**\n",
    "<br/><br/><br/>\n",
    "So like this, these landmarks can work as hyperplane\n",
    "<br/><br/>\n",
    "-그렇다면 landmark를 어떻게 고를 수 있을까.\n",
    "우선 데이터가 주어졌을 때 각 데이터를 landmark로 삼는다. <br/>\n",
    "그 다음 만약 $\\theta^Tf\\geq0$이면 $y=1$로 예측한다.<br/><br/>\n",
    "f1 function은 다음과 같은 objective function을 통해서 구한다.<br/>\n",
    "$$ min\\,C\\sum_{i=1}^my^{(i)}cost_1(\\theta^Tf^{(i)})+(1-y^{(i)})cost_0(\\theta^Tf^{(i)})+\\frac{1}{2}\\sum_{j=1}^m\\theta_j^2$$\n",
    " <br/>\n",
    "\n",
    "### Kernel 함수의 종류<br/>\n",
    "\n",
    "### 1) linear kernel\n",
    "- linear한 형태의 hyper plane을 구하는 것이다.\n",
    "   - C값만 정해주면 된다 \n",
    " \n",
    "<img src=\"picture/rbf.png\" align =\"right\">\n",
    "### 2) Gaussian(RBF) kernel\n",
    "   - training set을 kernel로 이용한다.\n",
    "   - $\\sigma^2$을 정해줘야 한다.\n",
    "   - do not perform feature scaling before using RBF kernel<br/>\n",
    "   - $ f_i = exp(-\\frac{\\left \\| x-l^{(i)} \\right \\|^2}{2\\sigma^2}),\\,\\,where\\,\\,\\,l^{(i)}=x^{(i)})$\n",
    "    <br/>\n",
    "    \n",
    "### 3) polynomial kernel<br/><br/>\n",
    "   - $k(x,l)=(x^Tl+constant)^{degree} $\n",
    "\n",
    "---\n",
    "## SVM Parameter\n",
    "### $𝐶(=\\frac{1}{\\lambda})$\n",
    "    Large C: Lower bias (prone to overfitting)<br/>\n",
    "    Small C: Lower variance (prone to underfitting)<br/>\n",
    "\n",
    "### $\\sigma^2$\n",
    "   Large $ \\sigma^2 $ : Lower variance (prone to underfitting)<br/>\n",
    "    Small $ \\sigma^2 $ : Lower bias (prone to overfitting)<br/>\n"
   ]
  },
  {
   "cell_type": "code",
   "execution_count": 1,
   "metadata": {
    "collapsed": true
   },
   "outputs": [],
   "source": [
    "%matplotlib inline\n",
    "\n",
    "import matplotlib.pyplot as plt\n",
    "\n",
    "import pandas as pd\n",
    "from sklearn.svm import SVC\n",
    "from sklearn.model_selection import GridSearchCV\n",
    "from sklearn.model_selection import KFold\n",
    "from numpy.random import RandomState\n",
    "from numpy import nonzero"
   ]
  },
  {
   "cell_type": "code",
   "execution_count": 3,
   "metadata": {
    "collapsed": false
   },
   "outputs": [],
   "source": [
    "from tools import rmse_cal,mae_cal,cor_cal,mean_cal,frange,\\\n",
    "                    accuracy,precision,recall,aupr,f1_score,make_binary\n",
    "from validation import classification_cv,regression_cv,external_val_reg,\\\n",
    "                        external_val_classif, test_preprocessing, cal_auc, \\\n",
    "                        draw_roc,cal_external_auc"
   ]
  },
  {
   "cell_type": "code",
   "execution_count": 4,
   "metadata": {
    "collapsed": true
   },
   "outputs": [],
   "source": [
    "dataset=pd.read_table('data/breast_cancer_svc.tsv',sep='\\t')"
   ]
  },
  {
   "cell_type": "code",
   "execution_count": 5,
   "metadata": {
    "collapsed": true
   },
   "outputs": [],
   "source": [
    "input_data=dataset.iloc[:,1:].transpose()\n",
    "X_data=input_data.iloc[:,:-1].values\n",
    "y_data=input_data.iloc[:,-1]\n",
    "y_data=make_binary('normal','cancer',y_data)"
   ]
  },
  {
   "cell_type": "code",
   "execution_count": 6,
   "metadata": {
    "collapsed": false
   },
   "outputs": [],
   "source": [
    "svc=SVC(max_iter=10000, random_state=RandomState(None))\n",
    "# C : penalty parameter\n",
    "#kernel : 커널 종류\n",
    "# degree : polynomial kernel의 차수\n",
    "# gamma : sigma^2 , 커널값들이 얼마나 퍼져있는지 \n",
    "# coef0 :  polynomial kernel의 경우 다음과 같은 식이다. gamma*u'*v + coef0)^degree"
   ]
  },
  {
   "cell_type": "markdown",
   "metadata": {},
   "source": [
    "find the best parameter for support vector machine by using grid search algorithm\n",
    "- C value and best kernel"
   ]
  },
  {
   "cell_type": "code",
   "execution_count": 7,
   "metadata": {
    "collapsed": false
   },
   "outputs": [],
   "source": [
    "kf=KFold(n_splits=10,shuffle=True)\n",
    "parameters={'C':[1,2,5,10,20,50,100], 'kernel':['linear','poly','rbf']}\n",
    "\n",
    "clf=GridSearchCV(svc,parameters,cv=kf,n_jobs=20)"
   ]
  },
  {
   "cell_type": "code",
   "execution_count": 8,
   "metadata": {
    "collapsed": false
   },
   "outputs": [
    {
     "data": {
      "text/plain": [
       "GridSearchCV(cv=KFold(n_splits=10, random_state=None, shuffle=True),\n",
       "       error_score='raise',\n",
       "       estimator=SVC(C=1.0, cache_size=200, class_weight=None, coef0=0.0,\n",
       "  decision_function_shape=None, degree=3, gamma='auto', kernel='rbf',\n",
       "  max_iter=10000, probability=False,\n",
       "  random_state=<mtrand.RandomState object at 0x7fc55ab7d370>,\n",
       "  shrinking=True, tol=0.001, verbose=False),\n",
       "       fit_params={}, iid=True, n_jobs=20,\n",
       "       param_grid={'kernel': ['linear', 'poly', 'rbf'], 'C': [1, 2, 5, 10, 20, 50, 100]},\n",
       "       pre_dispatch='2*n_jobs', refit=True, return_train_score=True,\n",
       "       scoring=None, verbose=0)"
      ]
     },
     "execution_count": 8,
     "metadata": {},
     "output_type": "execute_result"
    }
   ],
   "source": [
    "clf.fit(X_data,y_data)"
   ]
  },
  {
   "cell_type": "code",
   "execution_count": 9,
   "metadata": {
    "collapsed": false
   },
   "outputs": [],
   "source": [
    "parameters=clf.best_params_"
   ]
  },
  {
   "cell_type": "code",
   "execution_count": 10,
   "metadata": {
    "collapsed": false
   },
   "outputs": [],
   "source": [
    "c=parameters['C']\n",
    "kernel=parameters['kernel']"
   ]
  },
  {
   "cell_type": "markdown",
   "metadata": {},
   "source": [
    "modified model using best parameter "
   ]
  },
  {
   "cell_type": "code",
   "execution_count": 11,
   "metadata": {
    "collapsed": false
   },
   "outputs": [],
   "source": [
    "fitted_svc=SVC(max_iter=10000, random_state=RandomState(None),C=c,kernel=kernel)"
   ]
  },
  {
   "cell_type": "markdown",
   "metadata": {},
   "source": [
    "10-fold cross validation"
   ]
  },
  {
   "cell_type": "code",
   "execution_count": 12,
   "metadata": {
    "collapsed": false
   },
   "outputs": [
    {
     "name": "stdout",
     "output_type": "stream",
     "text": [
      "accuracy : 1.0\n",
      "precision :1.0\n",
      "recall : 1.0\n",
      "f1_score : 1.0\n"
     ]
    }
   ],
   "source": [
    "cv_test=classification_cv(10,fitted_svc,dataset)"
   ]
  },
  {
   "cell_type": "code",
   "execution_count": 13,
   "metadata": {
    "collapsed": false
   },
   "outputs": [
    {
     "data": {
      "image/png": "[encoded data removed]",
      "text/plain": [
       "<matplotlib.figure.Figure at 0x7fc558f7c290>"
      ]
     },
     "metadata": {},
     "output_type": "display_data"
    }
   ],
   "source": [
    "draw_roc(dataset,fitted_svc,.2)"
   ]
  },
  {
   "cell_type": "markdown",
   "metadata": {},
   "source": [
    "External validation"
   ]
  },
  {
   "cell_type": "code",
   "execution_count": 14,
   "metadata": {
    "collapsed": false
   },
   "outputs": [],
   "source": [
    "testset=pd.read_table('data/breast_cancer_test.tsv',sep='\\t')"
   ]
  },
  {
   "cell_type": "code",
   "execution_count": 15,
   "metadata": {
    "collapsed": true
   },
   "outputs": [],
   "source": [
    "tmp=test_preprocessing(testset,dataset)\n",
    "X_test=tmp.iloc[1:,:-1].values"
   ]
  },
  {
   "cell_type": "code",
   "execution_count": 16,
   "metadata": {
    "collapsed": false
   },
   "outputs": [
    {
     "name": "stdout",
     "output_type": "stream",
     "text": [
      "accuracy : 0.875\n",
      "precision :0.2\n",
      "recall : 0.666666666667\n",
      "f1_score : 0.307692307692\n"
     ]
    }
   ],
   "source": [
    "test_result=external_val_classif(testset,dataset,fitted_svc)"
   ]
  },
  {
   "cell_type": "code",
   "execution_count": 17,
   "metadata": {
    "collapsed": false
   },
   "outputs": [],
   "source": [
    "y_score=fitted_svc.decision_function(X_test)"
   ]
  },
  {
   "cell_type": "code",
   "execution_count": 18,
   "metadata": {
    "collapsed": false
   },
   "outputs": [
    {
     "name": "stdout",
     "output_type": "stream",
     "text": [
      "auc : 0.86935483871\n",
      "aupr : 0.498885033096\n"
     ]
    },
    {
     "data": {
      "text/plain": [
       "(0.86935483870967745, 0.49888503309555943)"
      ]
     },
     "execution_count": 18,
     "metadata": {},
     "output_type": "execute_result"
    }
   ],
   "source": [
    "cal_external_auc(testset,y_score)"
   ]
  },
  {
   "cell_type": "markdown",
   "metadata": {
    "collapsed": true
   },
   "source": [
    "## Support Vector Regression\n",
    "support vector machine은 regression method로써도 사용할 수 있다.<br/>\n",
    "Support Vector Regression(SVR)은 classification을 위한 SVM과 기본 원리는 거의 동일하지만 약간의 차이점이 있다.<br/><br/>\n",
    "SVR에서는 soft margin method처럼 margin of tolerance($\\epsilon$),즉 margin을 최대화 하는 지점을 찾지만 거기에 일정부분의 error값을 둔다.<br/>\n",
    "하지만 error를 최소화 하면서 margin을 최대화시키는  hyperplane을 찾고자 하는 기본 원리는 동일하다. \n",
    "<img src = \"picture/svr.png\">\n",
    "objective function을 살펴보면, 앞선 parameter vector의 길이를 최소화하려는 부분이 margin을 최대화하는 점을 찾고자 하는 부분에 해당하며, penalizing factor(C)가 붙은 부분이 error를 최소화하려는 부분에 해당한다.<br/>\n",
    "이때 margin을 구할 때 error값에 해당하는 $\\epsilon$ 내부에 존재하는 점들은 고려하지 않고 바깥에 있는 점들의 error들만 최소화하는 점들을 구한다. 이 경우 outlier에 영향을 많이 받을 수 있기 때문에 C값을 조절해서 penalty를 준다. "
   ]
  },
  {
   "cell_type": "code",
   "execution_count": 19,
   "metadata": {
    "collapsed": true
   },
   "outputs": [],
   "source": [
    "from sklearn.svm import SVR"
   ]
  },
  {
   "cell_type": "code",
   "execution_count": 37,
   "metadata": {
    "collapsed": true
   },
   "outputs": [],
   "source": [
    "dataset=pd.read_table('data/blood_age_selected_lasso.tsv',sep='\\t')"
   ]
  },
  {
   "cell_type": "code",
   "execution_count": 38,
   "metadata": {
    "collapsed": true
   },
   "outputs": [],
   "source": [
    "X_data = input_data.iloc[:,:-1]\n",
    "y_data = input_data.iloc[:,-1]"
   ]
  },
  {
   "cell_type": "code",
   "execution_count": 39,
   "metadata": {
    "collapsed": true
   },
   "outputs": [],
   "source": [
    "svr=SVR(gamma='auto',tol=0.001,verbose=False, max_iter=10000)"
   ]
  },
  {
   "cell_type": "code",
   "execution_count": 65,
   "metadata": {
    "collapsed": true
   },
   "outputs": [],
   "source": [
    "kf=KFold(n_splits=10,shuffle=True)\n",
    "parameters={'C':[1,2,5,10,20,50,100], 'kernel':['linear','poly','rbf'],'epsilon':[0.001,0.01,0.05,0.1,0.2,0.3]}\n",
    "\n",
    "clf=GridSearchCV(svr,parameters,cv=kf,n_jobs=20)"
   ]
  },
  {
   "cell_type": "code",
   "execution_count": 66,
   "metadata": {
    "collapsed": false,
    "scrolled": true
   },
   "outputs": [
    {
     "data": {
      "text/plain": [
       "GridSearchCV(cv=KFold(n_splits=10, random_state=None, shuffle=True),\n",
       "       error_score='raise',\n",
       "       estimator=SVR(C=1.0, cache_size=200, coef0=0.0, degree=3, epsilon=0.1, gamma='auto',\n",
       "  kernel='rbf', max_iter=10000, shrinking=True, tol=0.001, verbose=False),\n",
       "       fit_params={}, iid=True, n_jobs=20,\n",
       "       param_grid={'kernel': ['linear', 'poly', 'rbf'], 'C': [1, 2, 5, 10, 20, 50, 100], 'epsilon': [0.001, 0.01, 0.05, 0.1, 0.2, 0.3]},\n",
       "       pre_dispatch='2*n_jobs', refit=True, return_train_score=True,\n",
       "       scoring=None, verbose=0)"
      ]
     },
     "execution_count": 66,
     "metadata": {},
     "output_type": "execute_result"
    }
   ],
   "source": [
    "clf.fit(X_data,y_data)"
   ]
  },
  {
   "cell_type": "code",
   "execution_count": 67,
   "metadata": {
    "collapsed": true
   },
   "outputs": [],
   "source": [
    "parameters=clf.best_params_"
   ]
  },
  {
   "cell_type": "code",
   "execution_count": 68,
   "metadata": {
    "collapsed": true
   },
   "outputs": [],
   "source": [
    "c=parameters['C']\n",
    "ep=parameters['epsilon']\n",
    "kernel=parameters['kernel']"
   ]
  },
  {
   "cell_type": "code",
   "execution_count": 69,
   "metadata": {
    "collapsed": false
   },
   "outputs": [
    {
     "data": {
      "text/plain": [
       "0.1"
      ]
     },
     "execution_count": 69,
     "metadata": {},
     "output_type": "execute_result"
    }
   ],
   "source": [
    "ep"
   ]
  },
  {
   "cell_type": "code",
   "execution_count": 70,
   "metadata": {
    "collapsed": false
   },
   "outputs": [],
   "source": [
    "fitted_svr=SVR(max_iter=10000, C=c,kernel=kernel,epsilon=ep)"
   ]
  },
  {
   "cell_type": "code",
   "execution_count": 71,
   "metadata": {
    "collapsed": false
   },
   "outputs": [
    {
     "name": "stdout",
     "output_type": "stream",
     "text": [
      "rmse : 13.7527773346\n",
      "mad : 10.9661855408\n",
      "cor : 0.662401755641\n"
     ]
    }
   ],
   "source": [
    "cv_result=regression_cv(10,svr,dataset)"
   ]
  },
  {
   "cell_type": "code",
   "execution_count": 72,
   "metadata": {
    "collapsed": true
   },
   "outputs": [],
   "source": [
    "test_df=pd.read_table('data/blood_age_test.tsv',sep='\\t')"
   ]
  },
  {
   "cell_type": "code",
   "execution_count": 73,
   "metadata": {
    "collapsed": false
   },
   "outputs": [
    {
     "name": "stdout",
     "output_type": "stream",
     "text": [
      "rmse = 36.7973759384\n",
      "mae = 35.3897455856\n",
      "cor = 0.164137963888\n"
     ]
    }
   ],
   "source": [
    "test_result=external_val_reg(test_df,dataset,svr)"
   ]
  },
  {
   "cell_type": "code",
   "execution_count": null,
   "metadata": {
    "collapsed": true
   },
   "outputs": [],
   "source": []
  }
 ],
 "metadata": {
  "kernelspec": {
   "display_name": "Python 2",
   "language": "python",
   "name": "python2"
  },
  "language_info": {
   "codemirror_mode": {
    "name": "ipython",
    "version": 2
   },
   "file_extension": ".py",
   "mimetype": "text/x-python",
   "name": "python",
   "nbconvert_exporter": "python",
   "pygments_lexer": "ipython2",
   "version": "2.7.6"
  }
 },
 "nbformat": 4,
 "nbformat_minor": 0
}

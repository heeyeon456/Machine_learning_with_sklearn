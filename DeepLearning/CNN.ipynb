{
 "cells": [
  {
   "cell_type": "markdown",
   "metadata": {},
   "source": [
    "# Convolutional Neural Network with Keras"
   ]
  },
  {
   "cell_type": "markdown",
   "metadata": {},
   "source": [
    "### Classification problem of dog and cat images"
   ]
  },
  {
   "cell_type": "code",
   "execution_count": null,
   "metadata": {},
   "outputs": [],
   "source": [
    "import matplotlib.pyplot as plt\n",
    "from matplotlib.pyplot import imshow\n",
    "import numpy as np\n",
    "import pandas as pd\n",
    "import os\n",
    "\n",
    "% matplotlib inline"
   ]
  },
  {
   "cell_type": "code",
   "execution_count": 2,
   "metadata": {},
   "outputs": [],
   "source": [
    "from keras.models import Sequential\n",
    "from keras.layers import Activation, Dropout, Flatten, Dense\n",
    "from keras.preprocessing.image import ImageDataGenerator, load_img, img_to_array\n",
    "from keras.layers import Convolution2D,Conv2D, MaxPooling2D, ZeroPadding2D\n",
    "from keras import optimizers\n",
    "from keras import applications\n",
    "from keras.models import Model\n",
    "from keras.regularizers import l2\n",
    "from keras import backend as K"
   ]
  },
  {
   "cell_type": "code",
   "execution_count": 3,
   "metadata": {},
   "outputs": [],
   "source": [
    "img_width, img_height = 75, 75\n",
    "\n",
    "train_data_dir='~/study/data/animal_data/simple/train/'\n",
    "validation_data_dir='~/study/data/animal_data/simple/validation/'"
   ]
  },
  {
   "cell_type": "markdown",
   "metadata": {},
   "source": [
    "## data example"
   ]
  },
  {
   "cell_type": "code",
   "execution_count": 4,
   "metadata": {},
   "outputs": [],
   "source": [
    "if K.backend() == 'tensorflow':\n",
    "    K.clear_session()"
   ]
  },
  {
   "cell_type": "code",
   "execution_count": 5,
   "metadata": {},
   "outputs": [],
   "source": [
    "dog_ex = np.random.choice(os.listdir(train_data_dir+'dog/'),1)[0]\n",
    "cat_ex = np.random.choice(os.listdir(train_data_dir+'cat/'),1)[0]"
   ]
  },
  {
   "cell_type": "code",
   "execution_count": 6,
   "metadata": {},
   "outputs": [
    {
     "data": {
      "text/plain": [
       "<PIL.Image.Image image mode=RGB size=75x75 at 0x7FAB9C9C6878>"
      ]
     },
     "execution_count": 6,
     "metadata": {},
     "output_type": "execute_result"
    }
   ],
   "source": [
    "load_img(train_data_dir+'dog/'+dog_ex, target_size=(75,75))"
   ]
  },
  {
   "cell_type": "code",
   "execution_count": 7,
   "metadata": {},
   "outputs": [
    {
     "data": {
      "text/plain": [
       "<PIL.Image.Image image mode=RGB size=75x75 at 0x7FAB9C9D17A0>"
      ]
     },
     "execution_count": 7,
     "metadata": {},
     "output_type": "execute_result"
    }
   ],
   "source": [
    "load_img(train_data_dir+'cat/'+cat_ex, target_size=(75,75))"
   ]
  },
  {
   "cell_type": "markdown",
   "metadata": {},
   "source": [
    "## Preprocessing"
   ]
  },
  {
   "cell_type": "code",
   "execution_count": 8,
   "metadata": {
    "collapsed": true
   },
   "outputs": [],
   "source": [
    "#rescale the pixel from [0,255] to [0,1] interval\n",
    "datagen = ImageDataGenerator(rescale=1./255)\n",
    "batch_size = 5"
   ]
  },
  {
   "cell_type": "markdown",
   "metadata": {},
   "source": [
    "train data preprocessing"
   ]
  },
  {
   "cell_type": "code",
   "execution_count": 9,
   "metadata": {},
   "outputs": [
    {
     "name": "stdout",
     "output_type": "stream",
     "text": [
      "Found 20715 images belonging to 2 classes.\n"
     ]
    }
   ],
   "source": [
    "train_generator = datagen.flow_from_directory(\n",
    "        train_data_dir,\n",
    "        target_size=(img_width, img_height),\n",
    "        batch_size=batch_size,\n",
    "        class_mode='binary')"
   ]
  },
  {
   "cell_type": "markdown",
   "metadata": {},
   "source": [
    "test data preprocessing"
   ]
  },
  {
   "cell_type": "code",
   "execution_count": 10,
   "metadata": {},
   "outputs": [
    {
     "name": "stdout",
     "output_type": "stream",
     "text": [
      "Found 2500 images belonging to 2 classes.\n"
     ]
    }
   ],
   "source": [
    "validation_generator = datagen.flow_from_directory(\n",
    "        validation_data_dir,\n",
    "        target_size=(img_width, img_height),\n",
    "        batch_size=batch_size,\n",
    "        class_mode='binary')"
   ]
  },
  {
   "cell_type": "markdown",
   "metadata": {},
   "source": [
    "## Conv Net\n",
    "### Model Architecture"
   ]
  },
  {
   "cell_type": "code",
   "execution_count": 11,
   "metadata": {},
   "outputs": [],
   "source": [
    "# a simple stack of 3 convolution layers with a ReLU activation and followed by max-pooling layers.\n",
    "model = Sequential()\n",
    "model.add(Conv2D(256, (3, 3), input_shape=(img_width, img_height,3)\n",
    "              ,kernel_regularizer = l2(0.01)))\n",
    "model.add(Activation('relu'))\n",
    "model.add(MaxPooling2D(pool_size=(2, 2)))\n",
    "\n",
    "model.add(Conv2D(128, (3, 3)\n",
    "          ,kernel_regularizer = l2(0.01)))\n",
    "model.add(Activation('relu'))\n",
    "model.add(MaxPooling2D(pool_size=(2, 2)))\n",
    "\n",
    "model.add(Conv2D(64, (3, 3)\n",
    "         ,kernel_regularizer = l2(0.01)))\n",
    "model.add(Activation('relu'))\n",
    "model.add(MaxPooling2D(pool_size=(2, 2)))\n",
    "\n",
    "model.add(Flatten())\n",
    "model.add(Dense(64))\n",
    "model.add(Activation('relu'))\n",
    "model.add(Dropout(0.5))\n",
    "model.add(Dense(1))\n",
    "model.add(Activation('sigmoid'))"
   ]
  },
  {
   "cell_type": "code",
   "execution_count": 12,
   "metadata": {
    "collapsed": true
   },
   "outputs": [],
   "source": [
    "model.compile(loss='binary_crossentropy',\n",
    "              optimizer='adam',\n",
    "              metrics=['accuracy'])"
   ]
  },
  {
   "cell_type": "code",
   "execution_count": 13,
   "metadata": {
    "collapsed": true
   },
   "outputs": [],
   "source": [
    "epochs = 20\n",
    "train_samples = 20715 \n",
    "validation_samples = 2500"
   ]
  },
  {
   "cell_type": "code",
   "execution_count": 15,
   "metadata": {},
   "outputs": [
    {
     "name": "stdout",
     "output_type": "stream",
     "text": [
      "Epoch 1/20\n",
      "4143/4143 [==============================] - 129s - loss: 0.6520 - acc: 0.6425 - val_loss: 0.7406 - val_acc: 0.4972\n",
      "Epoch 2/20\n",
      "4143/4143 [==============================] - 132s - loss: 0.6519 - acc: 0.6428 - val_loss: 0.7363 - val_acc: 0.4996\n",
      "Epoch 3/20\n",
      "4143/4143 [==============================] - 133s - loss: 0.6523 - acc: 0.6421 - val_loss: 0.7340 - val_acc: 0.4988\n",
      "Epoch 4/20\n",
      "4143/4143 [==============================] - 132s - loss: 0.6504 - acc: 0.6452 - val_loss: 0.7405 - val_acc: 0.5004\n",
      "Epoch 5/20\n",
      "4143/4143 [==============================] - 183s - loss: 0.6524 - acc: 0.6420 - val_loss: 0.7346 - val_acc: 0.4988\n",
      "Epoch 6/20\n",
      "4143/4143 [==============================] - 135s - loss: 0.6518 - acc: 0.6429 - val_loss: 0.7324 - val_acc: 0.5028\n",
      "Epoch 7/20\n",
      "4143/4143 [==============================] - 132s - loss: 0.6516 - acc: 0.6432 - val_loss: 0.7416 - val_acc: 0.4992\n",
      "Epoch 8/20\n",
      "4143/4143 [==============================] - 133s - loss: 0.6523 - acc: 0.6421 - val_loss: 0.7363 - val_acc: 0.4984\n",
      "Epoch 9/20\n",
      "4143/4143 [==============================] - 160s - loss: 0.6516 - acc: 0.6434 - val_loss: 0.7345 - val_acc: 0.5012\n",
      "Epoch 10/20\n",
      "4143/4143 [==============================] - 138s - loss: 0.6526 - acc: 0.6415 - val_loss: 0.7378 - val_acc: 0.4992\n",
      "Epoch 11/20\n",
      "4143/4143 [==============================] - 133s - loss: 0.6520 - acc: 0.6426 - val_loss: 0.7333 - val_acc: 0.5024\n",
      "Epoch 12/20\n",
      "4143/4143 [==============================] - 133s - loss: 0.6516 - acc: 0.6432 - val_loss: 0.7320 - val_acc: 0.4972\n",
      "Epoch 13/20\n",
      "4143/4143 [==============================] - 110s - loss: 0.6520 - acc: 0.6427 - val_loss: 0.7343 - val_acc: 0.5024\n",
      "Epoch 14/20\n",
      "4143/4143 [==============================] - 172s - loss: 0.6521 - acc: 0.6424 - val_loss: 0.7352 - val_acc: 0.5012\n",
      "Epoch 15/20\n",
      "4143/4143 [==============================] - 131s - loss: 0.6511 - acc: 0.6441 - val_loss: 0.7377 - val_acc: 0.4956\n",
      "Epoch 16/20\n",
      "4143/4143 [==============================] - 141s - loss: 0.6527 - acc: 0.6414 - val_loss: 0.7360 - val_acc: 0.5008\n",
      "Epoch 17/20\n",
      "4143/4143 [==============================] - 132s - loss: 0.6509 - acc: 0.6444 - val_loss: 0.7333 - val_acc: 0.5036\n",
      "Epoch 18/20\n",
      "4143/4143 [==============================] - 133s - loss: 0.6520 - acc: 0.6425 - val_loss: 0.7382 - val_acc: 0.4960\n",
      "Epoch 19/20\n",
      "4143/4143 [==============================] - 106s - loss: 0.6518 - acc: 0.6428 - val_loss: 0.7385 - val_acc: 0.5008\n",
      "Epoch 20/20\n",
      "4143/4143 [==============================] - 78s - loss: 0.6524 - acc: 0.6420 - val_loss: 0.7342 - val_acc: 0.5044\n"
     ]
    },
    {
     "data": {
      "text/plain": [
       "<keras.callbacks.History at 0x7fac17390c90>"
      ]
     },
     "execution_count": 15,
     "metadata": {},
     "output_type": "execute_result"
    }
   ],
   "source": [
    "model.fit_generator(\n",
    "        train_generator,\n",
    "        steps_per_epoch=train_samples // batch_size,\n",
    "        epochs=epochs,\n",
    "        validation_data=validation_generator,\n",
    "        validation_steps=validation_samples // batch_size)"
   ]
  },
  {
   "cell_type": "code",
   "execution_count": 16,
   "metadata": {},
   "outputs": [],
   "source": [
    "model.save_weights('models/basic2_cnn_20_epochs.h5')"
   ]
  },
  {
   "cell_type": "code",
   "execution_count": 17,
   "metadata": {},
   "outputs": [
    {
     "data": {
      "text/plain": [
       "[0.73692695015668874, 0.49984001179933546]"
      ]
     },
     "execution_count": 17,
     "metadata": {},
     "output_type": "execute_result"
    }
   ],
   "source": [
    "model.evaluate_generator(validation_generator, validation_samples)"
   ]
  },
  {
   "cell_type": "code",
   "execution_count": 18,
   "metadata": {},
   "outputs": [],
   "source": [
    "new_data_dir = 'data/animal_data/new/test'\n",
    "test_list=os.listdir(new_data_dir)\n",
    "img=load_img(new_data_dir+'/'+test_list[2], target_size=(75,75))\n",
    "x=img_to_array(img)\n",
    "x=np.expand_dims(x,axis=0)\n"
   ]
  },
  {
   "cell_type": "code",
   "execution_count": 19,
   "metadata": {},
   "outputs": [
    {
     "data": {
      "text/plain": [
       "<matplotlib.image.AxesImage at 0x7fac1724d750>"
      ]
     },
     "execution_count": 19,
     "metadata": {},
     "output_type": "execute_result"
    },
    {
     "data": {
      "image/png": "[encoded data removed]",
      "text/plain": [
       "<matplotlib.figure.Figure at 0x7fac17390f90>"
      ]
     },
     "metadata": {},
     "output_type": "display_data"
    }
   ],
   "source": [
    "imshow(img)"
   ]
  },
  {
   "cell_type": "code",
   "execution_count": 20,
   "metadata": {},
   "outputs": [
    {
     "name": "stdout",
     "output_type": "stream",
     "text": [
      "1/1 [==============================] - 0s\n"
     ]
    },
    {
     "data": {
      "text/plain": [
       "array([[1]], dtype=int32)"
      ]
     },
     "execution_count": 20,
     "metadata": {},
     "output_type": "execute_result"
    }
   ],
   "source": [
    "model.predict_classes(x)\n",
    "#cat 0, dog 1"
   ]
  },
  {
   "cell_type": "markdown",
   "metadata": {
    "collapsed": true
   },
   "source": [
    "## Data augmentation for improving the model\n",
    "<br/>\n",
    "by applying random transformation to our train set, we artificially enhance our dataset with new unseen images. \n",
    "They will hopefully reduce overfitting and allows better generalization capability for our network\n",
    "### Random rotations \n",
    "Sometimes images in your smaple data may have varying and different rotations in the scene\n",
    "You can train your model to better handle rotations of images by artificially and randomly rotating images from your dataset during training\n",
    "### Random shifts\n",
    "Objects in your images may not be centered in the frame. They may be off-center in various different ways\n",
    "we can handle off-center objects by artifically creating shifted versions of your training data \n",
    "Keras supports separate horizontal and vertical random shifting of training data by the width_shift_range and height_shift_range arguments\n",
    "### Random Flips \n",
    "another augmentation to your image data that can improve performance on large and complex problems is to create random flips of images in your training data\n",
    "Keras supports random flipping along both the vertical and horizontal axes using the vertical_flip and horizontal_flip arguments"
   ]
  },
  {
   "cell_type": "code",
   "execution_count": 21,
   "metadata": {},
   "outputs": [],
   "source": [
    "train_datagen_augmented = ImageDataGenerator(\n",
    "    rescale=1./255,\n",
    "    shear_range=0.2,\n",
    "    zoom_range=0.2,\n",
    "    horizontal_flip=True)"
   ]
  },
  {
   "cell_type": "code",
   "execution_count": 22,
   "metadata": {},
   "outputs": [
    {
     "name": "stdout",
     "output_type": "stream",
     "text": [
      "Found 20715 images belonging to 2 classes.\n"
     ]
    }
   ],
   "source": [
    "train_generator = datagen.flow_from_directory(\n",
    "        train_data_dir,\n",
    "        target_size=(img_width, img_height),\n",
    "        batch_size=batch_size,\n",
    "        class_mode='binary')"
   ]
  },
  {
   "cell_type": "code",
   "execution_count": 23,
   "metadata": {
    "scrolled": true
   },
   "outputs": [
    {
     "name": "stdout",
     "output_type": "stream",
     "text": [
      "Epoch 1/20\n",
      "4143/4143 [==============================] - 130s - loss: 0.6518 - acc: 0.6428 - val_loss: 0.7321 - val_acc: 0.5008\n",
      "Epoch 2/20\n",
      "4143/4143 [==============================] - 131s - loss: 0.6519 - acc: 0.6428 - val_loss: 0.7368 - val_acc: 0.4952\n",
      "Epoch 3/20\n",
      "4143/4143 [==============================] - 131s - loss: 0.6519 - acc: 0.6428 - val_loss: 0.7345 - val_acc: 0.5008\n",
      "Epoch 4/20\n",
      "4143/4143 [==============================] - 134s - loss: 0.6519 - acc: 0.6428 - val_loss: 0.7343 - val_acc: 0.5028\n",
      "Epoch 5/20\n",
      "4143/4143 [==============================] - 138s - loss: 0.6518 - acc: 0.6428 - val_loss: 0.7362 - val_acc: 0.4972\n",
      "Epoch 6/20\n",
      "4143/4143 [==============================] - 133s - loss: 0.6519 - acc: 0.6428 - val_loss: 0.7333 - val_acc: 0.5020\n",
      "Epoch 7/20\n",
      "4143/4143 [==============================] - 132s - loss: 0.6519 - acc: 0.6428 - val_loss: 0.7367 - val_acc: 0.5004\n",
      "Epoch 8/20\n",
      "4143/4143 [==============================] - 132s - loss: 0.6519 - acc: 0.6428 - val_loss: 0.7364 - val_acc: 0.4968\n",
      "Epoch 9/20\n",
      "4143/4143 [==============================] - 140s - loss: 0.6519 - acc: 0.6428 - val_loss: 0.7353 - val_acc: 0.5000\n",
      "Epoch 10/20\n",
      "4143/4143 [==============================] - 133s - loss: 0.6519 - acc: 0.6428 - val_loss: 0.7306 - val_acc: 0.5064\n",
      "Epoch 11/20\n",
      "4143/4143 [==============================] - 132s - loss: 0.6519 - acc: 0.6428 - val_loss: 0.7364 - val_acc: 0.4976\n",
      "Epoch 12/20\n",
      "4143/4143 [==============================] - 131s - loss: 0.6518 - acc: 0.6428 - val_loss: 0.7418 - val_acc: 0.4916\n",
      "Epoch 13/20\n",
      "4143/4143 [==============================] - 137s - loss: 0.6518 - acc: 0.6428 - val_loss: 0.7293 - val_acc: 0.5056\n",
      "Epoch 14/20\n",
      "4143/4143 [==============================] - 133s - loss: 0.6518 - acc: 0.6428 - val_loss: 0.7300 - val_acc: 0.5032\n",
      "Epoch 15/20\n",
      "4143/4143 [==============================] - 133s - loss: 0.6519 - acc: 0.6428 - val_loss: 0.7386 - val_acc: 0.4976\n",
      "Epoch 16/20\n",
      "4143/4143 [==============================] - 132s - loss: 0.6519 - acc: 0.6428 - val_loss: 0.7338 - val_acc: 0.5036\n",
      "Epoch 17/20\n",
      "4143/4143 [==============================] - 132s - loss: 0.6519 - acc: 0.6428 - val_loss: 0.7369 - val_acc: 0.4976\n",
      "Epoch 18/20\n",
      "4143/4143 [==============================] - 139s - loss: 0.6518 - acc: 0.6428 - val_loss: 0.7402 - val_acc: 0.4988\n",
      "Epoch 19/20\n",
      "4143/4143 [==============================] - 133s - loss: 0.6519 - acc: 0.6428 - val_loss: 0.7352 - val_acc: 0.4996\n",
      "Epoch 20/20\n",
      "4143/4143 [==============================] - 131s - loss: 0.6518 - acc: 0.6428 - val_loss: 0.7350 - val_acc: 0.4964\n"
     ]
    },
    {
     "data": {
      "text/plain": [
       "<keras.callbacks.History at 0x7fac1739bf10>"
      ]
     },
     "execution_count": 23,
     "metadata": {},
     "output_type": "execute_result"
    }
   ],
   "source": [
    "model.fit_generator(\n",
    "        train_generator,\n",
    "        steps_per_epoch=train_samples // batch_size,\n",
    "        epochs=epochs,\n",
    "        validation_data=validation_generator,\n",
    "        validation_steps=validation_samples// batch_size,)"
   ]
  },
  {
   "cell_type": "code",
   "execution_count": 24,
   "metadata": {},
   "outputs": [
    {
     "data": {
      "text/plain": [
       "[0.73251177779436116, 0.50072001160979274]"
      ]
     },
     "execution_count": 24,
     "metadata": {},
     "output_type": "execute_result"
    }
   ],
   "source": [
    "model.evaluate_generator(validation_generator, validation_samples)"
   ]
  },
  {
   "cell_type": "markdown",
   "metadata": {},
   "source": [
    "validation accuracy is not that increasing"
   ]
  },
  {
   "cell_type": "markdown",
   "metadata": {},
   "source": [
    "# Pretrained model"
   ]
  },
  {
   "cell_type": "markdown",
   "metadata": {
    "collapsed": true
   },
   "source": [
    "## AlexNet (2012)\n",
    "- 2012년 ILSVRC에서 우승한 네트워크<br/><br/>\n",
    "- 데이터 : 평균이미지를 입력 이미지에서 뺀 zero-centered image를 사용하였다.<br/><br/>\n",
    "- activation function : ReLU (Vanishing gradient문제해결)<br/><br/>\n",
    "- overlapping poolling : stride는 3 필터는 2로 정하여 pooling layer가 overlap되게 구성하였다.<br/><br/>\n",
    "### Architecture\n",
    "![alexnet](picture/alexnet.PNG)\n",
    "\n",
    "[227x227x3]\tINPUT\n",
    "[55x55x96] CONV1\t: 96@ 11x11, s = 4, p = 0\n",
    "[27x27x96]\tMAX POOL1\t: 3x3, s = 2\n",
    "[27x27x96]\tNORM1\t:\n",
    "[27x27x256]\tCONV2\t: 256@ 5x5, s = 1, p = 2\n",
    "[13x13x256] MAX POOL2\t: 3x3, s = 2\n",
    "[13x13x256] NORM2\t:\n",
    "[13x13x384] CONV3\t: 384@ 3x3, s = 1, p = 1\n",
    "[13x13x384] CONV4\t: 384@ 3x3, s = 1, p = 1\n",
    "[13x13x256] CONV5\t: 256@ 3x3, s = 1, p = 1\n",
    "[6x6x256] MAX POOL3\t: 3x3, s = 2\n",
    "[4096]\tFC6\t: 4096 neurons\n",
    "[4096]\tFC7\t: 4096 neurons\n",
    "[1000]\tFC8\t: 1000 neurons\n",
    "<br/>\n",
    "디테일한 정보는 다음과 같다.\n",
    "- SGD사용, mini batch = 128\n",
    "- momenum : 0.9, weight_decay(l2) : 0.0005\n",
    "- weight initialization : zero-mean gaussian * 0.01\n",
    "- dropout probability : 0.5\n",
    "- learning rate : 0.01\n",
    "- 7개의 cnn ensemble\n",
    "- Data Augmentation : 원본 이지미는 256x256인데, 이를 224x224 패치가 되게 랜덤하게 추출한다. 이렇게 추출하면 한 개의 원본 이미지로 2048의 경우의 수가 나온다. 상하 대칭으로도 이미지를 똑같은 방법으로 추출한다. 테스트 단계에서는 원본, 상하반전 이미지에서 5개씩 224x224패치를 추출하여 softmax의 평균을 내어 추측한다. \n",
    "- PCA를 통해 테스트 이미지의 RGB 채널 강도를 변화시키는 augmentation을 진행한다.\n",
    "<br/><br/>\n",
    "\n",
    "[출처](http://nmhkahn.github.io/Casestudy-CNN)"
   ]
  },
  {
   "cell_type": "markdown",
   "metadata": {},
   "source": [
    "Preprocessing"
   ]
  },
  {
   "cell_type": "code",
   "execution_count": 26,
   "metadata": {
    "collapsed": true
   },
   "outputs": [],
   "source": [
    "img_width, img_height = 227, 227\n",
    "\n",
    "batch_size=3\n",
    "\n",
    "train_data_dir='data/animal_data/simple/train/'\n",
    "validation_data_dir='data/animal_data/simple/validation/'"
   ]
  },
  {
   "cell_type": "code",
   "execution_count": 27,
   "metadata": {},
   "outputs": [],
   "source": [
    "train_datagen_augmented = ImageDataGenerator(\n",
    "    featurewise_center=True,\n",
    "    rescale=1./255,\n",
    "    vertical_flip=True,\n",
    "    horizontal_flip=True)\n"
   ]
  },
  {
   "cell_type": "markdown",
   "metadata": {},
   "source": [
    "Architecture"
   ]
  },
  {
   "cell_type": "code",
   "execution_count": 28,
   "metadata": {},
   "outputs": [],
   "source": [
    "from keras.regularizers import l2\n",
    "\n",
    "model = Sequential()\n",
    "model.add(Conv2D(96, (11, 11), input_shape=(img_width, img_height,3)\n",
    "                        ,kernel_regularizer = l2(0.0005),strides = (2,2)))\n",
    "model.add(Activation('relu'))\n",
    "model.add(MaxPooling2D(pool_size=(3, 3),strides=(2,2)))\n",
    "\n",
    "model.add(Conv2D(256, (5, 5), kernel_regularizer = l2(0.0005)))\n",
    "model.add(ZeroPadding2D(padding=(2,2)))\n",
    "model.add(Activation('relu'))\n",
    "model.add(MaxPooling2D(pool_size=(3, 3),strides=(2,2)))\n",
    "          \n",
    "model.add(Conv2D(384, (3, 3),kernel_regularizer = l2(0.0005)))\n",
    "model.add(Activation('relu'))\n",
    "model.add(Conv2D(384, (3, 3),kernel_regularizer = l2(0.0005)))\n",
    "model.add(Activation('relu'))\n",
    "model.add(Conv2D(384, (3, 3),kernel_regularizer = l2(0.0005)))\n",
    "model.add(Activation('relu'))\n",
    "\n",
    "model.add(MaxPooling2D(pool_size=(3, 3),strides=(2,2)))\n",
    "\n",
    "model.add(Flatten())\n",
    "model.add(Dense(4096))         \n",
    "model.add(Activation('relu'))\n",
    "model.add(Dense(4096))         \n",
    "model.add(Activation('relu'))\n",
    "model.add(Dense(1000))         \n",
    "model.add(Activation('relu'))\n",
    "    \n",
    "model.add(Dropout(0.5))\n",
    "model.add(Dense(1))\n",
    "model.add(Activation('sigmoid'))"
   ]
  },
  {
   "cell_type": "code",
   "execution_count": 29,
   "metadata": {
    "collapsed": true
   },
   "outputs": [],
   "source": [
    "model.compile(loss='binary_crossentropy',\n",
    "              optimizer='adam',\n",
    "              metrics=['accuracy'])"
   ]
  },
  {
   "cell_type": "code",
   "execution_count": 30,
   "metadata": {
    "collapsed": true
   },
   "outputs": [],
   "source": [
    "epochs = 20\n",
    "train_samples = 26014\n",
    "validation_samples = 3260"
   ]
  },
  {
   "cell_type": "code",
   "execution_count": 31,
   "metadata": {},
   "outputs": [
    {
     "name": "stdout",
     "output_type": "stream",
     "text": [
      "Found 20715 images belonging to 2 classes.\n"
     ]
    }
   ],
   "source": [
    "train_generator = datagen.flow_from_directory(\n",
    "        train_data_dir,\n",
    "        target_size=(img_width, img_height),\n",
    "        batch_size=batch_size,\n",
    "        class_mode='binary')"
   ]
  },
  {
   "cell_type": "code",
   "execution_count": 32,
   "metadata": {},
   "outputs": [
    {
     "name": "stdout",
     "output_type": "stream",
     "text": [
      "Found 2500 images belonging to 2 classes.\n"
     ]
    }
   ],
   "source": [
    "validation_generator = datagen.flow_from_directory(\n",
    "        validation_data_dir,\n",
    "        target_size=(img_width, img_height),\n",
    "        batch_size=batch_size,\n",
    "        class_mode='binary')"
   ]
  },
  {
   "cell_type": "code",
   "execution_count": null,
   "metadata": {},
   "outputs": [],
   "source": [
    "model.fit_generator(\n",
    "        train_generator,\n",
    "        steps_per_epoch=train_samples // batch_size,\n",
    "        epochs=epochs,\n",
    "        validation_data=validation_generator,\n",
    "        validation_steps=validation_samples// batch_size,)"
   ]
  },
  {
   "cell_type": "markdown",
   "metadata": {},
   "source": [
    "## VGGNet (2014)\n",
    "- 2014 ILSVRC에서 GoogLeNet과 함께 높은 성능을 보인 네트워크 <br/><br/>\n",
    "- 간단한 구조 단일 네트워크 등에서 좋은 성능등을 이유로 여러 분유에서 기본 네트워크로 많이 사용되고 있다.\n",
    "- input : 224 x 224\n",
    "- 전처리 : 트레이닝 전체의 RGB마다의 평균값을 이미지의 각 픽셀마다 빼서 zero-centered되게 했다.\n",
    "- layer : VGG는 큰 필터를 사용했던 기존의 네트워크들과 다르게 모든 layer에서 가장 작은 크기의 필터를 사용한다.(3x3, s=1, p=1). 이 때 3x3으로 구성된 layer두개를 쌓으면 5x5와 동일한 성능을, 7x7은 레이어 3개를 쌓으면 같은 성능을 보인다. \n",
    "- 작은 크기의 필터를 사용하면 두가지 장점이 있다고 한다.\n",
    "  1) **여러 개의 ReLU를 사용할 수 있다. ** 하나의 layer를 작은 필터를 가진 여러개의 레이터로 표현하였기 때문에 non-linearity가 적용될 곳이 더 많아진다.\n",
    "  2) **학습해야할 weight수가 줄어든다***\n",
    "  \n",
    "- 추가적인 특징 : 2x2 max pool layer사용\n",
    "- fc 4096-4096-1000, 마지막은 softmax function사용\n",
    "- activation function으로 ReLU사용\n",
    "![vgg](picture/vgg16_original.png)"
   ]
  },
  {
   "cell_type": "markdown",
   "metadata": {},
   "source": [
    "keras에 정의된 vgg16 model"
   ]
  },
  {
   "cell_type": "code",
   "execution_count": 35,
   "metadata": {
    "collapsed": true
   },
   "outputs": [],
   "source": [
    "img_width, img_height = 150, 150\n",
    "\n",
    "train_data_dir='data/animal_data/simple/train/'\n",
    "validation_data_dir='data/animal_data/simple/validation/'\n",
    "\n",
    "batch_size=3"
   ]
  },
  {
   "cell_type": "code",
   "execution_count": 36,
   "metadata": {},
   "outputs": [],
   "source": [
    "model_vgg = applications.VGG16(include_top=False, weights='imagenet')"
   ]
  },
  {
   "cell_type": "code",
   "execution_count": 37,
   "metadata": {},
   "outputs": [
    {
     "name": "stdout",
     "output_type": "stream",
     "text": [
      "Found 20715 images belonging to 2 classes.\n",
      "Found 2500 images belonging to 2 classes.\n"
     ]
    }
   ],
   "source": [
    "train_generator_bottleneck = datagen.flow_from_directory(\n",
    "        train_data_dir,\n",
    "        target_size=(img_width, img_height),\n",
    "        batch_size=batch_size,\n",
    "        class_mode='binary',\n",
    "        shuffle=False)\n",
    "\n",
    "validation_generator_bottleneck = datagen.flow_from_directory(\n",
    "        validation_data_dir,\n",
    "        target_size=(img_width, img_height),\n",
    "        batch_size=batch_size,\n",
    "        class_mode='binary',\n",
    "        shuffle=False)"
   ]
  },
  {
   "cell_type": "code",
   "execution_count": 38,
   "metadata": {
    "collapsed": true
   },
   "outputs": [],
   "source": [
    "epochs = 20\n",
    "train_samples = 18650\n",
    "validation_samples = 2500"
   ]
  },
  {
   "cell_type": "markdown",
   "metadata": {},
   "source": [
    "vgg로 학습시키는 것은 매우 긴 과정이므로, VGG16에 대한 output을 먼저 저장한다"
   ]
  },
  {
   "cell_type": "code",
   "execution_count": null,
   "metadata": {},
   "outputs": [],
   "source": [
    "bottleneck_features_train = model_vgg.predict_generator(train_generator_bottleneck, train_samples // batch_size)\n",
    "np.save(open('models/bottleneck_features_train.npy', 'wb'), bottleneck_features_train)"
   ]
  },
  {
   "cell_type": "code",
   "execution_count": null,
   "metadata": {
    "collapsed": true
   },
   "outputs": [],
   "source": [
    "bottleneck_features_validation = model_vgg.predict_generator(validation_generator_bottleneck, validation_samples // batch_size)\n",
    "np.save(open('models/bottleneck_features_validation.npy', 'wb'), bottleneck_features_validation)"
   ]
  },
  {
   "cell_type": "code",
   "execution_count": 41,
   "metadata": {
    "collapsed": true
   },
   "outputs": [],
   "source": [
    "train_data = np.load(open('models/bottleneck_features_train.npy', 'rb'))\n",
    "train_labels = np.array([0] * (train_samples // 2) + [1] * (train_samples // 2))\n",
    "\n",
    "validation_data = np.load(open('models/bottleneck_features_validation.npy', 'rb'))\n",
    "validation_labels = np.array([0] * (validation_samples // 2) + [1] * (validation_samples // 2))"
   ]
  },
  {
   "cell_type": "code",
   "execution_count": 42,
   "metadata": {
    "collapsed": true
   },
   "outputs": [],
   "source": [
    "model_top = Sequential()\n",
    "model_top.add(Flatten(input_shape=train_data.shape[1:]))\n",
    "model_top.add(Dense(256, activation='relu'))\n",
    "model_top.add(Dropout(0.5))\n",
    "model_top.add(Dense(1, activation='sigmoid'))\n",
    "\n",
    "model_top.compile(optimizer='rmsprop', loss='binary_crossentropy', metrics=['accuracy'])"
   ]
  },
  {
   "cell_type": "code",
   "execution_count": null,
   "metadata": {},
   "outputs": [],
   "source": [
    "model_top.fit(train_data, train_labels,\n",
    "        epochs=epochs, \n",
    "        batch_size=batch_size,\n",
    "        validation_data=(validation_data, validation_labels))"
   ]
  },
  {
   "cell_type": "code",
   "execution_count": null,
   "metadata": {
    "collapsed": true
   },
   "outputs": [],
   "source": [
    "model_top.save_weights('models/bottleneck_30_epochs.h5')"
   ]
  },
  {
   "cell_type": "markdown",
   "metadata": {},
   "source": [
    "### Fine-tuning the top layers of a pre-trained network"
   ]
  },
  {
   "cell_type": "code",
   "execution_count": null,
   "metadata": {},
   "outputs": [],
   "source": [
    "model_vgg = applications.VGG16(weights='imagenet', include_top=False, input_shape=(150, 150, 3))"
   ]
  },
  {
   "cell_type": "markdown",
   "metadata": {},
   "source": [
    "convolutional model의 젤 끝에 classifier model을 만든다. fine tuning을 위해서 먼저 완전히 train된 classifier의 weight를 이용하고 convolutional base에 수정한 classifier를 올린다."
   ]
  },
  {
   "cell_type": "code",
   "execution_count": null,
   "metadata": {},
   "outputs": [],
   "source": [
    "top_model = Sequential()\n",
    "top_model.add(Flatten(input_shape=model_vgg.output_shape[1:]))\n",
    "top_model.add(Dense(256, activation='relu'))\n",
    "top_model.add(Dropout(0.5))\n",
    "top_model.add(Dense(1, activation='sigmoid'))\n",
    "\n",
    "top_model.load_weights('models/bottleneck_30_epochs.h5')\n",
    "\n",
    "#model_vgg.add(top_model)\n",
    "model = Model(inputs = model_vgg.input, outputs = top_model(model_vgg.output))"
   ]
  },
  {
   "cell_type": "markdown",
   "metadata": {},
   "source": [
    "**VGG16에서 layer개수 줄이기**<br/>\n",
    "fine-tuning을 위해서 약간의 layer만 쓰고 싶다. 이 줄에서는 위 15개의 layer를 학습할 수 없게 설정한다."
   ]
  },
  {
   "cell_type": "code",
   "execution_count": null,
   "metadata": {
    "collapsed": true
   },
   "outputs": [],
   "source": [
    "for layer in model.layers[:15]:\n",
    "    layer.trainable = False"
   ]
  },
  {
   "cell_type": "code",
   "execution_count": null,
   "metadata": {
    "collapsed": true
   },
   "outputs": [],
   "source": [
    "# compile the model with a SGD/momentum optimizer\n",
    "# and a very slow learning rate.\n",
    "model.compile(loss='binary_crossentropy',\n",
    "              optimizer=optimizers.SGD(lr=1e-4, momentum=0.9),\n",
    "              metrics=['accuracy'])"
   ]
  },
  {
   "cell_type": "code",
   "execution_count": null,
   "metadata": {},
   "outputs": [],
   "source": [
    "# prepare data augmentation configuration  . . . do we need this?\n",
    "train_datagen = ImageDataGenerator(\n",
    "        rescale=1./255,\n",
    "        shear_range=0.2,\n",
    "        zoom_range=0.2,\n",
    "        horizontal_flip=True)\n",
    "\n",
    "test_datagen = ImageDataGenerator(rescale=1./255)\n",
    "\n",
    "train_generator = train_datagen.flow_from_directory(\n",
    "        train_data_dir,\n",
    "        target_size=(img_height, img_width),\n",
    "        batch_size=batch_size,\n",
    "        class_mode='binary')\n",
    "\n",
    "validation_generator = test_datagen.flow_from_directory(\n",
    "        validation_data_dir,\n",
    "        target_size=(img_height, img_width),\n",
    "        batch_size=batch_size,\n",
    "        class_mode='binary')\n"
   ]
  },
  {
   "cell_type": "code",
   "execution_count": null,
   "metadata": {},
   "outputs": [],
   "source": [
    "# fine-tune the model\n",
    "model.fit_generator(\n",
    "    train_generator,\n",
    "    steps_per_epoch=train_samples // batch_size,\n",
    "    epochs=epochs,\n",
    "    validation_data=validation_generator,\n",
    "    validation_steps=validation_samples // batch_size)"
   ]
  },
  {
   "cell_type": "code",
   "execution_count": null,
   "metadata": {
    "collapsed": true
   },
   "outputs": [],
   "source": [
    "model.save_weights('models/finetuning_30epochs_vgg.h5')"
   ]
  },
  {
   "cell_type": "code",
   "execution_count": null,
   "metadata": {},
   "outputs": [],
   "source": [
    "model.load_weights('models/finetuning_30epochs_vgg.h5')"
   ]
  },
  {
   "cell_type": "code",
   "execution_count": null,
   "metadata": {},
   "outputs": [],
   "source": [
    "model.evaluate_generator(validation_generator, validation_samples)"
   ]
  },
  {
   "cell_type": "markdown",
   "metadata": {},
   "source": [
    "## ResNet (2015)"
   ]
  },
  {
   "cell_type": "markdown",
   "metadata": {},
   "source": [
    "MSRA에서 만든 ResNet은 2015sus ImageNet의 Classification, Detection, Localization부문에서 모두 1위를 차지했으며, 매우매우 깊은 layer를 자랑하는 네트워크이다.\n",
    "[논문](https://arxiv.org/pdf/1512.03385.pdf)\n",
    "- alexNet이 8개의 layer, VGG가 19개의 layer를 사용한데에 비해, ResNet은 152개의 layer를 사용하였다. \n",
    "- 네트워크의 layer가 깊어지만 **degradation**이라는 문제가 발생한다. 이는 네트워크가 깊어짐에 따라 training error자체가 높아지는 현상을 말한다.\n",
    "![picture1](picture/resnet1.png)\n",
    "- 이 문제를 해결하기 위해 VGGNet에서 학습 시킨 것과 같이 비교적 얕은 네트워크를 이용하여 일차적으로 학습시키고, 이를 깊은 넽,워크의 초기값으로 주어 학습시키는 방법을 사용할 수 잇지만, 시간이 오래 걸리는 단점이 있다. ResNet에서는 이 문제를 **Deep residual learning**이라는 학습법으로 해결하여 무려 152개의 layer를 쌋은 깊은 네트워크를 만들었다. \n",
    "\n",
    "### Residual block\n",
    "- residual block은 아주 단순하게 layer를 학습시킨 결과에 이전의 input값을 단순히 더해줌으로써 학습을 한다.(기존의 f(x)에서 f(x)+x)\n",
    "- 이를 통해서 gradient vanising문제를 거의 완전히 방지할 수 있으며 서로 다른 여러개의 모델을 학습(앙상블)시킨 효과가 나타난다고 한다.\n",
    "![picture2](picture/resnet2.png)\n",
    "\n",
    "### Deep Residual Learning\n",
    "- 기본적인 주장은 더 깊은 네트워크는 얉은 네트워크가 학습할 수 있는 것들은 모두 학습할 수 있어야 한다: 추가적인 네트워크가 단순히 identity mapping만을 수행한다면, 더 깊은 네트워크는 얉은 네트워크와 동일하게 기능할 수 밖에 없다.\n",
    "- 깊은 네트워크는 그들의 identity transform을 찾는데 오랜시간이 걸리기 때문에, identity transform을 만든다. 즉, layer는 identity transform을 추가하기 위해 residual function을 학습한다. identity transform만 수행하므로서, 네트워크는 F(x)안에서 weight를 0으로 만들고자 하면 된다. \n",
    "![residual_net](picture/alexnet.PNG)\n",
    "- ResNet은 직적 activation을 수행하는 weight를 학습하는 것이 아니라 input과 output의 차이인 residual을 학습시키는 방식이다. 기존의 AlexNet과, VGG, GoogLeNet은 Convolution을 통해 tensor(feature map)을 변형시켜 왔지만 ResNet은 input에 추가적인 값을 conv로 학습시킨다. gradient가 additive하게 흐르는 것을 skip connection이라고 논문에서 표현한다.<br/>\n",
    "- 또한 부가적으로 CNN을 깊이 쌓으면서 ResNet에서는 Fully Connected layer를 사용하지 않았다. 이는 모델의 파라미터를 줄이는 데 도움이 되었다. <br/>\n",
    "[참고1](https://matrixmashing.wordpress.com/2016/01/29/interpretating-deep-residual-learning-blocks-as-locally-recurrent-connections/)\n",
    "[참고2](http://tmmse.xyz/2016/10/15/lstm-resnet/)"
   ]
  },
  {
   "cell_type": "code",
   "execution_count": 47,
   "metadata": {
    "collapsed": true
   },
   "outputs": [],
   "source": [
    "img_width, img_height = 224, 224\n",
    "\n",
    "train_data_dir='data/animal_data/simple/train/'\n",
    "validation_data_dir='data/animal_data/simple/validation/'\n",
    "\n",
    "batch_size=5"
   ]
  },
  {
   "cell_type": "code",
   "execution_count": null,
   "metadata": {},
   "outputs": [],
   "source": [
    "model_resnet = applications.ResNet50(weights='imagenet', include_top=False, input_shape=(224, 224, 3))"
   ]
  },
  {
   "cell_type": "code",
   "execution_count": null,
   "metadata": {
    "collapsed": true
   },
   "outputs": [],
   "source": [
    "epochs = 20\n",
    "train_samples = 24479 \n",
    "validation_samples = 3129 "
   ]
  },
  {
   "cell_type": "code",
   "execution_count": null,
   "metadata": {},
   "outputs": [],
   "source": [
    "model_resnet.output_shape"
   ]
  },
  {
   "cell_type": "code",
   "execution_count": null,
   "metadata": {},
   "outputs": [],
   "source": [
    "top_model = Sequential()\n",
    "top_model.add(Flatten(input_shape=model_resnet.output_shape[1:]))\n",
    "top_model.add(Dense(256, activation='relu'))\n",
    "top_model.add(Dense(1, activation='sigmoid'))\n",
    "\n",
    "#top_model.add(Dense(1, activation='sigmoid'))\n",
    "\n",
    "#model_vgg.add(top_model)\n",
    "model = Model(inputs = model_resnet.input, outputs = top_model(model_resnet.output))"
   ]
  },
  {
   "cell_type": "code",
   "execution_count": null,
   "metadata": {
    "collapsed": true
   },
   "outputs": [],
   "source": [
    "# compile the model with a SGD/momentum optimizer\n",
    "# and a very slow learning rate.\n",
    "model.compile(loss='binary_crossentropy',\n",
    "              optimizer=optimizers.SGD(lr=1e-4, momentum=0.9),\n",
    "              metrics=['accuracy'])"
   ]
  },
  {
   "cell_type": "code",
   "execution_count": null,
   "metadata": {},
   "outputs": [],
   "source": [
    "# prepare data augmentation configuration  . . . do we need this?\n",
    "train_datagen = ImageDataGenerator(\n",
    "        rescale=1./255,\n",
    "        shear_range=0.2,\n",
    "        zoom_range=0.2,\n",
    "        horizontal_flip=True)\n",
    "\n",
    "test_datagen = ImageDataGenerator(rescale=1./255)\n",
    "\n",
    "\n",
    "train_generator = train_datagen.flow_from_directory(\n",
    "        train_data_dir,\n",
    "        target_size=(img_height, img_width),\n",
    "        batch_size=batch_size,\n",
    "        class_mode='binary')\n",
    "\n",
    "validation_generator = test_datagen.flow_from_directory(\n",
    "        validation_data_dir,\n",
    "        target_size=(img_height, img_width),\n",
    "        batch_size=batch_size,\n",
    "        class_mode='binary')\n"
   ]
  },
  {
   "cell_type": "code",
   "execution_count": null,
   "metadata": {},
   "outputs": [],
   "source": [
    "# fine-tune the model\n",
    "model.fit_generator(\n",
    "    train_generator,\n",
    "    steps_per_epoch=train_samples // batch_size,\n",
    "    epochs=epochs,\n",
    "    validation_data=validation_generator,\n",
    "    validation_steps=validation_samples // batch_size)"
   ]
  },
  {
   "cell_type": "code",
   "execution_count": null,
   "metadata": {
    "collapsed": true
   },
   "outputs": [],
   "source": [
    "model.save_weights('models/finetuning_30epochs_resnet.h5')"
   ]
  },
  {
   "cell_type": "code",
   "execution_count": null,
   "metadata": {
    "collapsed": true
   },
   "outputs": [],
   "source": [
    "model.load_weights('models/finetuning_30epochs_resnet.h5')"
   ]
  },
  {
   "cell_type": "code",
   "execution_count": null,
   "metadata": {},
   "outputs": [],
   "source": [
    "model.evaluate_generator(validation_generator, validation_samples)"
   ]
  },
  {
   "cell_type": "code",
   "execution_count": null,
   "metadata": {
    "collapsed": true
   },
   "outputs": [],
   "source": []
  }
 ],
 "metadata": {
  "kernelspec": {
   "display_name": "Python 3",
   "language": "python",
   "name": "python3"
  },
  "language_info": {
   "codemirror_mode": {
    "name": "ipython",
    "version": 3
   },
   "file_extension": ".py",
   "mimetype": "text/x-python",
   "name": "python",
   "nbconvert_exporter": "python",
   "pygments_lexer": "ipython3",
   "version": "3.6.5"
  }
 },
 "nbformat": 4,
 "nbformat_minor": 1
}

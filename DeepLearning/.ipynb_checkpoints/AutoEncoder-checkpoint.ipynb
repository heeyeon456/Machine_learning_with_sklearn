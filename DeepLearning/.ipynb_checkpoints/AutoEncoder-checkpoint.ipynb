{
 "cells": [
  {
   "cell_type": "markdown",
   "metadata": {},
   "source": [
    "# Generative model\n",
    "- training data가 주어졌을 때 training data의 분포를 따르는 new sample을 만드는 모델"
   ]
  },
  {
   "cell_type": "markdown",
   "metadata": {},
   "source": [
    "# Autoencoder"
   ]
  },
  {
   "cell_type": "markdown",
   "metadata": {},
   "source": [
    "- unsupervised learning중 일종으로 input data를 특정 개수의 latent factor로 표현해준다. 즉 input의 정보를 압축해 표현하는 것을 의미한다.\n",
    "- 원래의 input data를 특정 개수의 latent factor(hidden layer 개수)를 이용해서 다시 복원시키는 error를 줄이는 방식으로 학습한다\n",
    "<br/>\n",
    "![AE](picture/AE.png)"
   ]
  },
  {
   "cell_type": "markdown",
   "metadata": {},
   "source": [
    "## Latent feature selection using stacked autoencoder"
   ]
  },
  {
   "cell_type": "code",
   "execution_count": 1,
   "metadata": {
    "collapsed": false
   },
   "outputs": [],
   "source": [
    "import pandas as pd\n",
    "import numpy as np\n",
    "\n",
    "from sklearn.feature_selection import f_regression\n",
    "from statsmodels.sandbox.stats import multicomp\n",
    "from sklearn.linear_model import LassoCV\n",
    "from numpy.random import RandomState\n",
    "from sklearn.model_selection import KFold"
   ]
  },
  {
   "cell_type": "code",
   "execution_count": 2,
   "metadata": {
    "collapsed": false,
    "scrolled": true
   },
   "outputs": [],
   "source": [
    "data = pd.read_table('data/blood_data/blood_train.tsv',sep='\\t')"
   ]
  },
  {
   "cell_type": "markdown",
   "metadata": {},
   "source": [
    "### F Test"
   ]
  },
  {
   "cell_type": "code",
   "execution_count": 3,
   "metadata": {
    "collapsed": true
   },
   "outputs": [],
   "source": [
    "def fdr_testing(data,value,alpha):\n",
    "\n",
    "    fdr=multicomp.multipletests(data['p-value'],alpha=alpha,method='fdr_bh',returnsorted=False)\n",
    "\n",
    "    p_value_corrected=pd.DataFrame(columns=['ID_REF',value,'fdr'])\n",
    "\n",
    "    n=0\n",
    "    d_index=data.index\n",
    "\n",
    "    for j in range(len(data)):\n",
    "        if fdr[1][j] < alpha:\n",
    "            p_value_corrected.set_value(n,'ID_REF',data.ix[d_index[j],0])\n",
    "            p_value_corrected.set_value(n,value,data.ix[d_index[j],1])\n",
    "            p_value_corrected.set_value(n,'fdr',fdr[1][j])\n",
    "\n",
    "        n=n+1\n",
    "\n",
    "    return p_value_corrected"
   ]
  },
  {
   "cell_type": "code",
   "execution_count": 4,
   "metadata": {
    "collapsed": true
   },
   "outputs": [],
   "source": [
    "def f_test(data,alpha):\n",
    "    age = data.iloc[-1,1:].astype(\"float\")\n",
    "    fpkm = data.iloc[:-1,1:].astype(\"float\")\n",
    "    fpkm=fpkm.transpose()\n",
    "    fresult = f_regression(fpkm,age)\n",
    "\n",
    "    f_value=pd.DataFrame(columns=['ID_REF','F','p-value'])\n",
    "\n",
    "\n",
    "    f_value['ID_REF']=data.iloc[:-1,0]\n",
    "    f_value['F']=fresult[0]\n",
    "    f_value['p-value']=fresult[1]\n",
    "\n",
    "    f_value.sort_values(by='p-value',ascending=True,inplace=True)\n",
    "    f_value=f_value[f_value['p-value']<alpha]\n",
    "\n",
    "    f_value2=fdr_testing(f_value,'F',alpha)\n",
    "    result_df=pd.merge(data,f_value2,how='inner',on=['ID_REF'])\n",
    "    result_df=result_df.append(data.iloc[-1,:],ignore_index=True)\n",
    "    result_df = result_df.drop(['fdr', 'F'], axis=1)\n",
    "    \n",
    "    return result_df"
   ]
  },
  {
   "cell_type": "code",
   "execution_count": 5,
   "metadata": {
    "collapsed": false
   },
   "outputs": [],
   "source": [
    "f_test_data = f_test(data,alpha=0.05)\n",
    "input_data = f_test_data"
   ]
  },
  {
   "cell_type": "markdown",
   "metadata": {},
   "source": [
    "## Stacked Autoencoder"
   ]
  },
  {
   "cell_type": "code",
   "execution_count": 6,
   "metadata": {
    "collapsed": false
   },
   "outputs": [
    {
     "data": {
      "text/plain": [
       "device_count {\n",
       "  key: \"GPU\"\n",
       "}"
      ]
     },
     "execution_count": 6,
     "metadata": {},
     "output_type": "execute_result"
    }
   ],
   "source": [
    "import tensorflow as tf\n",
    "\n",
    "tf.ConfigProto(device_count={'GPU': 0})"
   ]
  },
  {
   "cell_type": "code",
   "execution_count": 7,
   "metadata": {
    "collapsed": false
   },
   "outputs": [
    {
     "name": "stderr",
     "output_type": "stream",
     "text": [
      "Using TensorFlow backend.\n"
     ]
    }
   ],
   "source": [
    "from keras.layers import Input, Dense, Flatten, Dropout\n",
    "from keras.models import Model,Sequential\n",
    "import pandas as pd\n",
    "import numpy as np\n",
    "from sklearn.preprocessing import MinMaxScaler\n",
    "import matplotlib.pyplot as plt\n",
    "% matplotlib inline"
   ]
  },
  {
   "cell_type": "code",
   "execution_count": 8,
   "metadata": {
    "collapsed": false
   },
   "outputs": [],
   "source": [
    "dataset = input_data.iloc[:-1,1:].T\n",
    "\n",
    "scaler = MinMaxScaler()\n",
    "normed=pd.DataFrame(scaler.fit_transform(dataset))\n",
    "normed.index = dataset.index"
   ]
  },
  {
   "cell_type": "code",
   "execution_count": 9,
   "metadata": {
    "collapsed": false
   },
   "outputs": [],
   "source": [
    "#load data\n",
    "#data = pd.read_table('data_science_project/data/GSE15745_methylation_lasso_selected.tsv',sep='\\t')\n",
    "#data=f_test_data.iloc[:-2,:]\n",
    "#dataset = data.iloc[:-1,1:].T\n",
    "x_dim = dataset.shape[1]\n",
    "x_size = dataset.shape[0]\n",
    "hidden_layer = 2000\n",
    "encoding_dim = 500"
   ]
  },
  {
   "cell_type": "markdown",
   "metadata": {},
   "source": [
    "multi_layer"
   ]
  },
  {
   "cell_type": "code",
   "execution_count": 10,
   "metadata": {
    "collapsed": false
   },
   "outputs": [],
   "source": [
    "##multi layer autoencoder\n",
    "\n",
    "input_df = Input(shape=(x_dim,))\n",
    "\n",
    "encoded = Dense(hidden_layer, activation=\"relu\")(input_df)\n",
    "#encoded = Dense(hidden_layer, activation=\"relu\")(encoded)\n",
    "encoded = Dense(encoding_dim,activation=\"relu\")(encoded)\n",
    "\n",
    "#decoded = Dense(hidden_layer, activation = 'relu')(encoded)\n",
    "decoded = Dense(x_dim, activation='sigmoid')(encoded)\n",
    "\n",
    "autoencoder = Model(input_df, decoded)\n",
    "encoder = Model(input_df, encoded)"
   ]
  },
  {
   "cell_type": "code",
   "execution_count": 11,
   "metadata": {
    "collapsed": false
   },
   "outputs": [],
   "source": [
    "encoded_input = Input(shape=(encoding_dim,))\n",
    "#decoder_layer1 = autoencoder.layers[-2]\n",
    "decoder_layer2 = autoencoder.layers[-1]\n",
    "#decoder = Model(encoded_input, decoder_layer2(decoder_layer1(encoded_input)))\n",
    "decoder = Model(encoded_input, decoder_layer2(encoded_input))"
   ]
  },
  {
   "cell_type": "markdown",
   "metadata": {},
   "source": [
    "common"
   ]
  },
  {
   "cell_type": "code",
   "execution_count": 12,
   "metadata": {
    "collapsed": false
   },
   "outputs": [],
   "source": [
    "autoencoder.compile(optimizer = 'adam',loss='mean_squared_error')"
   ]
  },
  {
   "cell_type": "code",
   "execution_count": 13,
   "metadata": {
    "collapsed": false
   },
   "outputs": [],
   "source": [
    "test_idx = np.random.choice(normed.index,int(x_size/10))\n",
    "x_train = normed[~normed.index.isin(test_idx)].astype('float32').values\n",
    "x_test = normed[normed.index.isin(test_idx)].astype('float32').values"
   ]
  },
  {
   "cell_type": "code",
   "execution_count": 14,
   "metadata": {
    "collapsed": false
   },
   "outputs": [],
   "source": [
    "tmp = input_data.iloc[:,1:]\n",
    "y_train = tmp.iloc[-1,~normed.index.isin(test_idx)].astype('float32').values\n",
    "y_test = tmp.iloc[-1,normed.index.isin(test_idx)].astype('float32').values"
   ]
  },
  {
   "cell_type": "code",
   "execution_count": 16,
   "metadata": {
    "collapsed": false,
    "scrolled": true
   },
   "outputs": [
    {
     "name": "stdout",
     "output_type": "stream",
     "text": [
      "Train on 594 samples, validate on 62 samples\n",
      "Epoch 1/50\n",
      "594/594 [==============================] - 152s - loss: 0.0325 - val_loss: 0.0178\n",
      "Epoch 2/50\n",
      "594/594 [==============================] - 94s - loss: 0.0178 - val_loss: 0.0156\n",
      "Epoch 3/50\n",
      "594/594 [==============================] - 87s - loss: 0.0146 - val_loss: 0.0142\n",
      "Epoch 4/50\n",
      "594/594 [==============================] - 86s - loss: 0.0141 - val_loss: 0.0143\n",
      "Epoch 5/50\n",
      "594/594 [==============================] - 92s - loss: 0.0134 - val_loss: 0.0134\n",
      "Epoch 6/50\n",
      "594/594 [==============================] - 93s - loss: 0.0128 - val_loss: 0.0137\n",
      "Epoch 7/50\n",
      "594/594 [==============================] - 92s - loss: 0.0125 - val_loss: 0.0125\n",
      "Epoch 8/50\n",
      "594/594 [==============================] - 88s - loss: 0.0119 - val_loss: 0.0123\n",
      "Epoch 9/50\n",
      "594/594 [==============================] - 91s - loss: 0.0121 - val_loss: 0.0131\n",
      "Epoch 10/50\n",
      "594/594 [==============================] - 87s - loss: 0.0121 - val_loss: 0.0123\n",
      "Epoch 11/50\n",
      "594/594 [==============================] - 87s - loss: 0.0113 - val_loss: 0.0117\n",
      "Epoch 12/50\n",
      "594/594 [==============================] - 88s - loss: 0.0111 - val_loss: 0.0117\n",
      "Epoch 13/50\n",
      "594/594 [==============================] - 84s - loss: 0.0110 - val_loss: 0.0118\n",
      "Epoch 14/50\n",
      "594/594 [==============================] - 80s - loss: 0.0111 - val_loss: 0.0116\n",
      "Epoch 15/50\n",
      "594/594 [==============================] - 86s - loss: 0.0110 - val_loss: 0.0119\n",
      "Epoch 16/50\n",
      "594/594 [==============================] - 85s - loss: 0.0109 - val_loss: 0.0114\n",
      "Epoch 17/50\n",
      "594/594 [==============================] - 89s - loss: 0.0107 - val_loss: 0.0118\n",
      "Epoch 18/50\n",
      "594/594 [==============================] - 87s - loss: 0.0111 - val_loss: 0.0117\n",
      "Epoch 19/50\n",
      "594/594 [==============================] - 86s - loss: 0.0108 - val_loss: 0.0113\n",
      "Epoch 20/50\n",
      "594/594 [==============================] - 89s - loss: 0.0106 - val_loss: 0.0113\n",
      "Epoch 21/50\n",
      "594/594 [==============================] - 87s - loss: 0.0105 - val_loss: 0.0112\n",
      "Epoch 22/50\n",
      "594/594 [==============================] - 89s - loss: 0.0105 - val_loss: 0.0112\n",
      "Epoch 23/50\n",
      "594/594 [==============================] - 87s - loss: 0.0105 - val_loss: 0.0110\n",
      "Epoch 24/50\n",
      "594/594 [==============================] - 87s - loss: 0.0104 - val_loss: 0.0115\n",
      "Epoch 25/50\n",
      "594/594 [==============================] - 85s - loss: 0.0104 - val_loss: 0.0110\n",
      "Epoch 26/50\n",
      "594/594 [==============================] - 89s - loss: 0.0105 - val_loss: 0.0112\n",
      "Epoch 27/50\n",
      "594/594 [==============================] - 85s - loss: 0.0103 - val_loss: 0.0109\n",
      "Epoch 28/50\n",
      "594/594 [==============================] - 80s - loss: 0.0102 - val_loss: 0.0109\n",
      "Epoch 29/50\n",
      "594/594 [==============================] - 97s - loss: 0.0104 - val_loss: 0.0113\n",
      "Epoch 30/50\n",
      "594/594 [==============================] - 91s - loss: 0.0102 - val_loss: 0.0109\n",
      "Epoch 31/50\n",
      "594/594 [==============================] - 93s - loss: 0.0101 - val_loss: 0.0108\n",
      "Epoch 32/50\n",
      "594/594 [==============================] - 87s - loss: 0.0101 - val_loss: 0.0109\n",
      "Epoch 33/50\n",
      "594/594 [==============================] - 85s - loss: 0.0101 - val_loss: 0.0111\n",
      "Epoch 34/50\n",
      "594/594 [==============================] - 95s - loss: 0.0103 - val_loss: 0.0109\n",
      "Epoch 35/50\n",
      "594/594 [==============================] - 90s - loss: 0.0101 - val_loss: 0.0109\n",
      "Epoch 36/50\n",
      "594/594 [==============================] - 92s - loss: 0.0106 - val_loss: 0.0117\n",
      "Epoch 37/50\n",
      "594/594 [==============================] - 91s - loss: 0.0105 - val_loss: 0.0111\n",
      "Epoch 38/50\n",
      "594/594 [==============================] - 97s - loss: 0.0101 - val_loss: 0.0109\n",
      "Epoch 39/50\n",
      "594/594 [==============================] - 94s - loss: 0.0100 - val_loss: 0.0108\n",
      "Epoch 40/50\n",
      "594/594 [==============================] - 95s - loss: 0.0099 - val_loss: 0.0107\n",
      "Epoch 41/50\n",
      "594/594 [==============================] - 96s - loss: 0.0099 - val_loss: 0.0107\n",
      "Epoch 42/50\n",
      "594/594 [==============================] - 96s - loss: 0.0100 - val_loss: 0.0107\n",
      "Epoch 43/50\n",
      "594/594 [==============================] - 90s - loss: 0.0100 - val_loss: 0.0108\n",
      "Epoch 44/50\n",
      "594/594 [==============================] - 94s - loss: 0.0099 - val_loss: 0.0107\n",
      "Epoch 45/50\n",
      "594/594 [==============================] - 94s - loss: 0.0101 - val_loss: 0.0116\n",
      "Epoch 46/50\n",
      "594/594 [==============================] - 91s - loss: 0.0101 - val_loss: 0.0109\n",
      "Epoch 47/50\n",
      "594/594 [==============================] - 91s - loss: 0.0099 - val_loss: 0.0108\n",
      "Epoch 48/50\n",
      "594/594 [==============================] - 92s - loss: 0.0100 - val_loss: 0.0110\n",
      "Epoch 49/50\n",
      "594/594 [==============================] - 88s - loss: 0.0100 - val_loss: 0.0109\n",
      "Epoch 50/50\n",
      "594/594 [==============================] - 84s - loss: 0.0099 - val_loss: 0.0107\n"
     ]
    },
    {
     "data": {
      "text/plain": [
       "<keras.callbacks.History at 0x7faaee7d7250>"
      ]
     },
     "execution_count": 16,
     "metadata": {},
     "output_type": "execute_result"
    }
   ],
   "source": [
    "autoencoder.fit(x_train,x_train,epochs=50,shuffle=True,validation_data=(x_test,x_test))"
   ]
  },
  {
   "cell_type": "code",
   "execution_count": 17,
   "metadata": {
    "collapsed": false
   },
   "outputs": [],
   "source": [
    "#encoded image\n",
    "train_encoded_df = encoder.predict(x_train)\n",
    "train_decoded_df = decoder.predict(train_encoded_df)\n",
    "test_encoded_df = encoder.predict(x_test)\n",
    "test_decoded_df = decoder.predict(test_encoded_df)"
   ]
  },
  {
   "cell_type": "code",
   "execution_count": 18,
   "metadata": {
    "collapsed": false
   },
   "outputs": [],
   "source": [
    "size=train_decoded_df.shape[0]"
   ]
  },
  {
   "cell_type": "code",
   "execution_count": 19,
   "metadata": {
    "collapsed": false
   },
   "outputs": [],
   "source": [
    "## methylation\n",
    "tmp_decoded=train_decoded_df.reshape(size*5,x_dim/5)\n",
    "tmp_xtrain = x_train.reshape(size*5,x_dim/5)"
   ]
  },
  {
   "cell_type": "code",
   "execution_count": 20,
   "metadata": {
    "collapsed": false
   },
   "outputs": [
    {
     "data": {
      "image/png": "[encoded data removed]",
      "text/plain": [
       "<matplotlib.figure.Figure at 0x7faaee7d7f50>"
      ]
     },
     "metadata": {},
     "output_type": "display_data"
    },
    {
     "data": {
      "text/plain": [
       "<matplotlib.image.AxesImage at 0x7faaee19fd10>"
      ]
     },
     "execution_count": 20,
     "metadata": {},
     "output_type": "execute_result"
    },
    {
     "data": {
      "image/png": "[encoded data removed]",
      "text/plain": [
       "<matplotlib.figure.Figure at 0x7faaee6ed9d0>"
      ]
     },
     "metadata": {},
     "output_type": "display_data"
    }
   ],
   "source": [
    "plt.imshow(tmp_decoded,interpolation='none')\n",
    "plt.show()\n",
    "plt.imshow(tmp_xtrain,interpolation='none')"
   ]
  },
  {
   "cell_type": "code",
   "execution_count": null,
   "metadata": {
    "collapsed": false
   },
   "outputs": [],
   "source": [
    "plt.boxplot([train_decoded_df[1],x_train[1]])\n",
    "#plt.ylim(0,1)"
   ]
  },
  {
   "cell_type": "code",
   "execution_count": 21,
   "metadata": {
    "collapsed": false
   },
   "outputs": [],
   "source": [
    "total_xtrain = encoder.predict(normed.astype('float32').values)\n",
    "total_ytrain = input_data.iloc[-1,1:]\n",
    "\n",
    "tmp=pd.DataFrame(data=total_xtrain)\n",
    "#tmp.index = normed.index[~normed.index.isin(test_idx)]\n",
    "tmp.index = normed.index\n",
    "tmp = tmp.T\n",
    "#a=pd.DataFrame(data=tmp[lasso.coef_!=0],columns=tmp.columns)\n",
    "a=pd.DataFrame(data=tmp,columns=tmp.columns)\n",
    "a=a.append(total_ytrain)"
   ]
  },
  {
   "cell_type": "markdown",
   "metadata": {},
   "source": [
    "### Test performance of selected feature"
   ]
  },
  {
   "cell_type": "code",
   "execution_count": 22,
   "metadata": {
    "collapsed": true
   },
   "outputs": [],
   "source": [
    "import pandas as pd\n",
    "from sklearn.linear_model import RidgeCV\n",
    "from sklearn.linear_model import LassoCV\n",
    "from sklearn.linear_model import ElasticNetCV\n",
    "\n",
    "from sklearn.svm import LinearSVR\n",
    "\n",
    "from sklearn.model_selection import train_test_split\n",
    "from scipy.stats.stats import pearsonr\n",
    "from math import sqrt\n",
    "from sklearn import metrics\n",
    "\n",
    "\n",
    "from sklearn.model_selection import KFold"
   ]
  },
  {
   "cell_type": "code",
   "execution_count": 23,
   "metadata": {
    "collapsed": true
   },
   "outputs": [],
   "source": [
    "def rmse_cal(target,prediction):\n",
    "    return float(sqrt(metrics.mean_squared_error(target,prediction)))\n",
    "\n",
    "def mae_cal(target,prediction):\n",
    "    return float(metrics.mean_absolute_error(target,prediction))\n",
    "\n",
    "def cor_cal(target,prediction):\n",
    "    return pearsonr(target,prediction)\n",
    "\n",
    "def frange(x, y, jump):\n",
    "    while x < y:\n",
    "        yield x\n",
    "        x += jump"
   ]
  },
  {
   "cell_type": "markdown",
   "metadata": {},
   "source": [
    "select by lasso"
   ]
  },
  {
   "cell_type": "code",
   "execution_count": 24,
   "metadata": {
    "collapsed": false
   },
   "outputs": [
    {
     "data": {
      "text/plain": [
       "LassoCV(alphas=None, copy_X=True, cv=None, eps=0.001, fit_intercept=True,\n",
       "    max_iter=1000, n_alphas=100, n_jobs=10, normalize=False,\n",
       "    positive=False, precompute='auto',\n",
       "    random_state=<mtrand.RandomState object at 0x7faaee716780>,\n",
       "    selection='random', tol=0.0001, verbose=False)"
      ]
     },
     "execution_count": 24,
     "metadata": {},
     "output_type": "execute_result"
    }
   ],
   "source": [
    "lasso = LassoCV(eps=0.001, n_alphas=100, fit_intercept=True, max_iter = 1000, n_jobs = 10, random_state=RandomState(None),selection='random')\n",
    "lasso.fit(total_xtrain,total_ytrain)"
   ]
  },
  {
   "cell_type": "code",
   "execution_count": 64,
   "metadata": {
    "collapsed": false
   },
   "outputs": [],
   "source": [
    "xtrain = data.iloc[:-1,1:].T\n",
    "ytrain = data.iloc[-1,1:]"
   ]
  },
  {
   "cell_type": "code",
   "execution_count": 65,
   "metadata": {
    "collapsed": false
   },
   "outputs": [],
   "source": [
    "lasso = LassoCV(eps=0.001, n_alphas=100, fit_intercept=True, max_iter = 1000, n_jobs = 10, random_state=RandomState(None),selection='random')\n",
    "lasso.fit(xtrain,ytrain)\n",
    "\n",
    "lasso_result=pd.DataFrame(data=dataset.T[lasso.coef_!=0],columns=dataset.index)\n",
    "lasso_result = lasso_result.append(ytrain)"
   ]
  },
  {
   "cell_type": "code",
   "execution_count": 66,
   "metadata": {
    "collapsed": true
   },
   "outputs": [],
   "source": [
    "def regression_cv(n,model,data):\n",
    "# do the cross validation in regression problem\n",
    "# input => n: nfold, model, training data\n",
    "\n",
    "    pred=pd.DataFrame()\n",
    "    real=pd.DataFrame()\n",
    "\n",
    "    data_t=data.iloc[:,1:].transpose()\n",
    "\n",
    "    kf=KFold(n_splits=n,shuffle=True)\n",
    "    prediction=pd.DataFrame(columns=['real','pred'])\n",
    "\n",
    "    for train, test in kf.split(data_t):\n",
    "\n",
    "        x_train=data_t.iloc[train,:-1].astype('float64').values\n",
    "        y_train=data_t.iloc[train,-1].astype('float64').values\n",
    "        model.fit(x_train,y_train)\n",
    "\n",
    "        x_test=data_t.iloc[test,:-1].astype('float64').values\n",
    "        y_test=data_t.iloc[test,-1].astype('float64').values\n",
    "\n",
    "        pred=pred.append(pd.DataFrame(model.predict(x_test)))\n",
    "        real=real.append(pd.DataFrame(y_test))\n",
    "\n",
    "    prediction=pd.concat([real,pred],axis=1)\n",
    "\n",
    "    rmse=rmse_cal(prediction.iloc[:,0],prediction.iloc[:,1])\n",
    "    mad=mae_cal(prediction.iloc[:,0],prediction.iloc[:,1])\n",
    "    cor=cor_cal(prediction.iloc[:,0],prediction.iloc[:,1])\n",
    "\n",
    "    print('rmse : '+str(rmse)+'\\nmad : '+str(mad)+'\\ncor : '+str(cor[0]))\n",
    "\n",
    "    return prediction"
   ]
  },
  {
   "cell_type": "code",
   "execution_count": 30,
   "metadata": {
    "collapsed": false,
    "scrolled": true
   },
   "outputs": [
    {
     "name": "stdout",
     "output_type": "stream",
     "text": [
      "rmse : 10.5441539466\n",
      "mad : 8.20798582479\n",
      "cor : 0.703878697514\n"
     ]
    }
   ],
   "source": [
    "kf = KFold(n_splits=10,shuffle=True)\n",
    "\n",
    "ridge=RidgeCV(alphas=(0.1, 1.0, 10.0), fit_intercept=True, scoring=None ,cv=kf,gcv_mode='auto')\n",
    "ridge_result = regression_cv(10,ridge,a)\n"
   ]
  },
  {
   "cell_type": "code",
   "execution_count": 67,
   "metadata": {
    "collapsed": false
   },
   "outputs": [
    {
     "name": "stdout",
     "output_type": "stream",
     "text": [
      "rmse : 4.66203823548\n",
      "mad : 3.68811072394\n",
      "cor : 0.948780022908\n"
     ]
    }
   ],
   "source": [
    "lasso_ridge = regression_cv(10,ridge,lasso_result)"
   ]
  },
  {
   "cell_type": "markdown",
   "metadata": {},
   "source": [
    "Elastic Net"
   ]
  },
  {
   "cell_type": "code",
   "execution_count": 28,
   "metadata": {
    "collapsed": false
   },
   "outputs": [],
   "source": [
    "kf = KFold(n_splits=10,shuffle=True)\n",
    "\n",
    "l1 = 0.5\n",
    "elastic_net=ElasticNetCV(cv=kf, fit_intercept=True, random_state=RandomState(None), selection='random',\n",
    "                             max_iter=100000,l1_ratio=l1)"
   ]
  },
  {
   "cell_type": "code",
   "execution_count": 31,
   "metadata": {
    "collapsed": false,
    "scrolled": true
   },
   "outputs": [
    {
     "name": "stdout",
     "output_type": "stream",
     "text": [
      "rmse : 10.1185382707\n",
      "mad : 8.12115208528\n",
      "cor : 0.727090512162\n"
     ]
    }
   ],
   "source": [
    "elasticnet_result = regression_cv(10,elastic_net,a)"
   ]
  },
  {
   "cell_type": "code",
   "execution_count": 68,
   "metadata": {
    "collapsed": false
   },
   "outputs": [
    {
     "name": "stdout",
     "output_type": "stream",
     "text": [
      "rmse : 4.81137826276\n",
      "mad : 3.84471829193\n",
      "cor : 0.94523757647\n"
     ]
    }
   ],
   "source": [
    "lasso_elasticnet = regression_cv(10,elastic_net,lasso_result)"
   ]
  },
  {
   "cell_type": "markdown",
   "metadata": {},
   "source": [
    "svr"
   ]
  },
  {
   "cell_type": "code",
   "execution_count": null,
   "metadata": {
    "collapsed": true
   },
   "outputs": [],
   "source": [
    "from sklearn.model_selection import RandomizedSearchCV\n",
    "from sklearn.svm import SVR"
   ]
  },
  {
   "cell_type": "code",
   "execution_count": null,
   "metadata": {
    "collapsed": false
   },
   "outputs": [],
   "source": [
    "kf=KFold(n_splits=10,shuffle=True)\n",
    "parameters={'C':range(1,100), 'kernel':['linear','poly','rbf'],'epsilon':np.arange(0.001, 1.0, 0.001)}\n",
    "svr=SVR(gamma='auto',tol=0.001,verbose=False, max_iter=10000)\n",
    "rsc = RandomizedSearchCV(svr,n_jobs=10,param_distributions=parameters)"
   ]
  },
  {
   "cell_type": "code",
   "execution_count": null,
   "metadata": {
    "collapsed": false
   },
   "outputs": [],
   "source": [
    "X_data = a.iloc[:-1,:].T.astype('float32').values\n",
    "y_data = a.iloc[-1,:].astype('float32').values"
   ]
  },
  {
   "cell_type": "code",
   "execution_count": null,
   "metadata": {
    "collapsed": false,
    "scrolled": true
   },
   "outputs": [],
   "source": [
    "rsc.fit(X_data,y_data)\n",
    "params=rsc.best_params_"
   ]
  },
  {
   "cell_type": "code",
   "execution_count": null,
   "metadata": {
    "collapsed": false
   },
   "outputs": [],
   "source": [
    "best_svr=SVR(gamma='auto',tol=0.001,verbose=False, max_iter=10000,C=params['C'],epsilon=params['epsilon'],kernel=params['kernel'])"
   ]
  },
  {
   "cell_type": "code",
   "execution_count": null,
   "metadata": {
    "collapsed": false,
    "scrolled": true
   },
   "outputs": [],
   "source": [
    "regression_cv(10,best_svr,a)"
   ]
  },
  {
   "cell_type": "markdown",
   "metadata": {},
   "source": [
    "## External Validation"
   ]
  },
  {
   "cell_type": "markdown",
   "metadata": {},
   "source": [
    "load data"
   ]
  },
  {
   "cell_type": "code",
   "execution_count": null,
   "metadata": {
    "collapsed": false
   },
   "outputs": [],
   "source": [
    "## methylation\n",
    "testset = pd.read_table('data/blood_data/blood_test.tsv',sep='\\t')\n",
    "\n",
    "train_cg = pd.DataFrame(data = input_data.iloc[:,0].values, columns = ['ID_REF'])\n",
    "testdata=pd.merge(testset, train_cg, right_on='ID_REF',left_on = 'Composite Element REF', how = 'right')"
   ]
  },
  {
   "cell_type": "markdown",
   "metadata": {},
   "source": [
    "preprocess"
   ]
  },
  {
   "cell_type": "code",
   "execution_count": 73,
   "metadata": {
    "collapsed": false
   },
   "outputs": [
    {
     "data": {
      "text/plain": [
       "False"
      ]
     },
     "execution_count": 73,
     "metadata": {},
     "output_type": "execute_result"
    }
   ],
   "source": [
    "testdata=testdata.T.fillna(testdata.mean(axis=1)).T\n",
    "testdata.fillna(0.5,inplace=True)\n",
    "\n",
    "testdata.isnull().values.any()"
   ]
  },
  {
   "cell_type": "code",
   "execution_count": 87,
   "metadata": {
    "collapsed": false
   },
   "outputs": [],
   "source": [
    "tmp=testdata.drop('ID_REF',axis=1)"
   ]
  },
  {
   "cell_type": "code",
   "execution_count": 88,
   "metadata": {
    "collapsed": false
   },
   "outputs": [],
   "source": [
    "scaler = MinMaxScaler()\n",
    "testnorm=pd.DataFrame(scaler.fit_transform(tmp.iloc[:-1,1:])).T"
   ]
  },
  {
   "cell_type": "code",
   "execution_count": 95,
   "metadata": {
    "collapsed": false
   },
   "outputs": [],
   "source": [
    "x_train = normed.values\n",
    "y_train = input_data.iloc[-1,1:].values\n",
    "x_test = testnorm.values\n",
    "y_test = tmp.iloc[-1,1:].values"
   ]
  },
  {
   "cell_type": "code",
   "execution_count": 96,
   "metadata": {
    "collapsed": false
   },
   "outputs": [],
   "source": [
    "#encoded image\n",
    "train_encoded_df = encoder.predict(x_train)\n",
    "train_decoded_df = decoder.predict(train_encoded_df)\n",
    "test_encoded_df = encoder.predict(x_test)\n",
    "test_decoded_df = decoder.predict(test_encoded_df)"
   ]
  },
  {
   "cell_type": "code",
   "execution_count": 93,
   "metadata": {
    "collapsed": true
   },
   "outputs": [],
   "source": [
    "def external_val(Xtrain,ytrain,Xtest,ytest,model):\n",
    "# do the external validation in regression problem\n",
    "# input : test data, training data, model\n",
    "\n",
    "    prediction=pd.DataFrame(columns=['predict','real'])\n",
    "\n",
    "\n",
    "    model.fit(Xtrain,ytrain)\n",
    "\n",
    "    a=pd.DataFrame(model.predict(Xtest))\n",
    "    real=pd.DataFrame(ytest)\n",
    "    prediction=pd.concat([real,a],axis=1)\n",
    "\n",
    "    rmse=rmse_cal(prediction.iloc[:,0],prediction.iloc[:,1])\n",
    "    mae=mae_cal(prediction.iloc[:,0],prediction.iloc[:,1])\n",
    "    cor=cor_cal(prediction.iloc[:,0],prediction.iloc[:,1])\n",
    "\n",
    "    print('rmse = '+str(rmse) +'\\nmae = '+str(mae)+'\\ncor = '+str(cor[0]) )\n",
    "\n",
    "    return rmse,mae,cor,prediction"
   ]
  },
  {
   "cell_type": "code",
   "execution_count": null,
   "metadata": {
    "collapsed": false,
    "scrolled": true
   },
   "outputs": [],
   "source": [
    "ridge=RidgeCV(alphas=(0.1, 1.0, 10.0), fit_intercept=True, scoring=None ,cv=kf,gcv_mode='auto')\n",
    "#ridge=RidgeCV(alphas=0.5, fit_intercept=True, scoring=None ,cv=kf,gcv_mode='auto')\n",
    "ridge_result=external_val(x_train,y_train,x_test,y_test,ridge)"
   ]
  },
  {
   "cell_type": "code",
   "execution_count": null,
   "metadata": {
    "collapsed": false,
    "scrolled": true
   },
   "outputs": [],
   "source": [
    "external_val(x_train,y_train,x_test,y_test,best_svr)"
   ]
  },
  {
   "cell_type": "code",
   "execution_count": 98,
   "metadata": {
    "collapsed": false,
    "scrolled": true
   },
   "outputs": [
    {
     "name": "stdout",
     "output_type": "stream",
     "text": [
      "rmse = 42.4995275523\n",
      "mae = 40.4559513536\n",
      "cor = 0.527238995399\n",
      "rmse = 42.5083417742\n",
      "mae = 40.4648650395\n",
      "cor = 0.527480632922\n",
      "rmse = 42.4262179759\n",
      "mae = 40.3776751375\n",
      "cor = 0.523437219367\n",
      "rmse = 42.3249126118\n",
      "mae = 40.2684635697\n",
      "cor = 0.517285020161\n",
      "rmse = 42.4010617899\n",
      "mae = 40.3504744375\n",
      "cor = 0.521747253928\n"
     ]
    }
   ],
   "source": [
    "L1=[0.1,0.3,0.5,0.7,0.9]\n",
    "l1_result = {}\n",
    "for l in L1: \n",
    "    elastic_net=ElasticNetCV(cv=kf, fit_intercept=True, random_state=RandomState(None), selection='random',\n",
    "                             max_iter=100000,l1_ratio=l1)\n",
    "\n",
    "    result = external_val(x_train,y_train,x_test,y_test,elastic_net)[0:3]\n",
    "    l1_result[l]=result"
   ]
  },
  {
   "cell_type": "markdown",
   "metadata": {
    "collapsed": true
   },
   "source": [
    "# Variational AutoEncoder"
   ]
  },
  {
   "cell_type": "code",
   "execution_count": null,
   "metadata": {
    "collapsed": true
   },
   "outputs": [],
   "source": []
  }
 ],
 "metadata": {
  "kernelspec": {
   "display_name": "Python 2",
   "language": "python",
   "name": "python2"
  },
  "language_info": {
   "codemirror_mode": {
    "name": "ipython",
    "version": 2
   },
   "file_extension": ".py",
   "mimetype": "text/x-python",
   "name": "python",
   "nbconvert_exporter": "python",
   "pygments_lexer": "ipython2",
   "version": "2.7.6"
  }
 },
 "nbformat": 4,
 "nbformat_minor": 0
}
